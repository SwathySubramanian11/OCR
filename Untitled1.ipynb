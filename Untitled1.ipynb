{
 "cells": [
  {
   "cell_type": "code",
   "execution_count": 4,
   "id": "a856e605",
   "metadata": {},
   "outputs": [
    {
     "name": "stdout",
     "output_type": "stream",
     "text": [
      "Requirement already satisfied: torch in /home/swathy/anaconda3/envs/myenv/lib/python3.7/site-packages (1.7.1+cpu)\n",
      "Collecting torch\n",
      "  Downloading torch-1.13.1-cp37-cp37m-manylinux1_x86_64.whl (887.5 MB)\n",
      "\u001b[2K     \u001b[38;2;114;156;31m━━━━━━━━━━━━━━━━━━━━━━━━━━━━━━━━━━━━━━━\u001b[0m \u001b[32m887.5/887.5 MB\u001b[0m \u001b[31m1.3 MB/s\u001b[0m eta \u001b[36m0:00:00\u001b[0mm eta \u001b[36m0:00:01\u001b[0m[36m0:00:05\u001b[0m\n",
      "\u001b[?25hRequirement already satisfied: typing-extensions in /home/swathy/anaconda3/envs/myenv/lib/python3.7/site-packages (from torch) (4.7.1)\n",
      "Collecting nvidia-cudnn-cu11==8.5.0.96\n",
      "  Using cached nvidia_cudnn_cu11-8.5.0.96-2-py3-none-manylinux1_x86_64.whl (557.1 MB)\n",
      "Collecting nvidia-cuda-nvrtc-cu11==11.7.99\n",
      "  Using cached nvidia_cuda_nvrtc_cu11-11.7.99-2-py3-none-manylinux1_x86_64.whl (21.0 MB)\n",
      "Collecting nvidia-cuda-runtime-cu11==11.7.99\n",
      "  Using cached nvidia_cuda_runtime_cu11-11.7.99-py3-none-manylinux1_x86_64.whl (849 kB)\n",
      "Collecting nvidia-cublas-cu11==11.10.3.66\n",
      "  Using cached nvidia_cublas_cu11-11.10.3.66-py3-none-manylinux1_x86_64.whl (317.1 MB)\n",
      "Requirement already satisfied: wheel in /home/swathy/anaconda3/envs/myenv/lib/python3.7/site-packages (from nvidia-cublas-cu11==11.10.3.66->torch) (0.38.4)\n",
      "Requirement already satisfied: setuptools in /home/swathy/anaconda3/envs/myenv/lib/python3.7/site-packages (from nvidia-cublas-cu11==11.10.3.66->torch) (65.6.3)\n",
      "Installing collected packages: nvidia-cuda-runtime-cu11, nvidia-cuda-nvrtc-cu11, nvidia-cublas-cu11, nvidia-cudnn-cu11, torch\n",
      "  Attempting uninstall: torch\n",
      "    Found existing installation: torch 1.7.1+cpu\n",
      "    Uninstalling torch-1.7.1+cpu:\n",
      "      Successfully uninstalled torch-1.7.1+cpu\n",
      "\u001b[31mERROR: pip's dependency resolver does not currently take into account all the packages that are installed. This behaviour is the source of the following dependency conflicts.\n",
      "torchvision 0.8.2+cpu requires torch==1.7.1, but you have torch 1.13.1 which is incompatible.\n",
      "torchaudio 0.7.2 requires torch==1.7.1, but you have torch 1.13.1 which is incompatible.\u001b[0m\u001b[31m\n",
      "\u001b[0mSuccessfully installed nvidia-cublas-cu11-11.10.3.66 nvidia-cuda-nvrtc-cu11-11.7.99 nvidia-cuda-runtime-cu11-11.7.99 nvidia-cudnn-cu11-8.5.0.96 torch-1.13.1\n",
      "Requirement already satisfied: easyocr in /home/swathy/anaconda3/envs/myenv/lib/python3.7/site-packages (1.7.1)\n",
      "Requirement already satisfied: torchvision>=0.5 in /home/swathy/anaconda3/envs/myenv/lib/python3.7/site-packages (from easyocr) (0.8.2+cpu)\n",
      "Requirement already satisfied: pyclipper in /home/swathy/anaconda3/envs/myenv/lib/python3.7/site-packages (from easyocr) (1.3.0.post5)\n",
      "Requirement already satisfied: ninja in /home/swathy/anaconda3/envs/myenv/lib/python3.7/site-packages (from easyocr) (1.11.1)\n",
      "Requirement already satisfied: Shapely in /home/swathy/anaconda3/envs/myenv/lib/python3.7/site-packages (from easyocr) (2.0.1)\n",
      "Requirement already satisfied: numpy in /home/swathy/anaconda3/envs/myenv/lib/python3.7/site-packages (from easyocr) (1.21.6)\n",
      "Requirement already satisfied: python-bidi in /home/swathy/anaconda3/envs/myenv/lib/python3.7/site-packages (from easyocr) (0.4.2)\n",
      "Requirement already satisfied: opencv-python-headless in /home/swathy/anaconda3/envs/myenv/lib/python3.7/site-packages (from easyocr) (4.8.0.76)\n",
      "Requirement already satisfied: torch in /home/swathy/anaconda3/envs/myenv/lib/python3.7/site-packages (from easyocr) (1.13.1)\n",
      "Requirement already satisfied: Pillow in /home/swathy/anaconda3/envs/myenv/lib/python3.7/site-packages (from easyocr) (9.5.0)\n",
      "Requirement already satisfied: scikit-image in /home/swathy/anaconda3/envs/myenv/lib/python3.7/site-packages (from easyocr) (0.19.3)\n",
      "Requirement already satisfied: scipy in /home/swathy/anaconda3/envs/myenv/lib/python3.7/site-packages (from easyocr) (1.7.3)\n",
      "Requirement already satisfied: PyYAML in /home/swathy/anaconda3/envs/myenv/lib/python3.7/site-packages (from easyocr) (6.0.1)\n",
      "Collecting torch\n",
      "  Downloading torch-1.7.1-cp37-cp37m-manylinux1_x86_64.whl (776.8 MB)\n",
      "\u001b[2K     \u001b[38;2;114;156;31m━━━━━━━━━━━━━━━━━━━━━━━━━━━━━━━━━━━━━━━\u001b[0m \u001b[32m776.8/776.8 MB\u001b[0m \u001b[31m1.4 MB/s\u001b[0m eta \u001b[36m0:00:00\u001b[0mm eta \u001b[36m0:00:01\u001b[0m[36m0:00:06\u001b[0m\n",
      "\u001b[?25hRequirement already satisfied: typing-extensions in /home/swathy/anaconda3/envs/myenv/lib/python3.7/site-packages (from torch->easyocr) (4.7.1)\n",
      "Requirement already satisfied: six in /home/swathy/anaconda3/envs/myenv/lib/python3.7/site-packages (from python-bidi->easyocr) (1.16.0)\n",
      "Requirement already satisfied: imageio>=2.4.1 in /home/swathy/anaconda3/envs/myenv/lib/python3.7/site-packages (from scikit-image->easyocr) (2.31.2)\n",
      "Requirement already satisfied: networkx>=2.2 in /home/swathy/anaconda3/envs/myenv/lib/python3.7/site-packages (from scikit-image->easyocr) (2.6.3)\n",
      "Requirement already satisfied: PyWavelets>=1.1.1 in /home/swathy/anaconda3/envs/myenv/lib/python3.7/site-packages (from scikit-image->easyocr) (1.3.0)\n",
      "Requirement already satisfied: tifffile>=2019.7.26 in /home/swathy/anaconda3/envs/myenv/lib/python3.7/site-packages (from scikit-image->easyocr) (2021.11.2)\n",
      "Requirement already satisfied: packaging>=20.0 in /home/swathy/anaconda3/envs/myenv/lib/python3.7/site-packages (from scikit-image->easyocr) (23.1)\n",
      "Installing collected packages: torch\n",
      "  Attempting uninstall: torch\n",
      "    Found existing installation: torch 1.13.1\n",
      "    Uninstalling torch-1.13.1:\n",
      "      Successfully uninstalled torch-1.13.1\n",
      "Successfully installed torch-1.7.1\n"
     ]
    }
   ],
   "source": [
    "!pip install torch -U\n",
    "!pip install easyocr -U\n"
   ]
  },
  {
   "cell_type": "code",
   "execution_count": 1,
   "id": "94069b6e",
   "metadata": {},
   "outputs": [
    {
     "ename": "AttributeError",
     "evalue": "module 'torch.backends' has no attribute 'mps'",
     "output_type": "error",
     "traceback": [
      "\u001b[0;31m---------------------------------------------------------------------------\u001b[0m",
      "\u001b[0;31mAttributeError\u001b[0m                            Traceback (most recent call last)",
      "\u001b[0;32m/tmp/ipykernel_5282/3173982566.py\u001b[0m in \u001b[0;36m<module>\u001b[0;34m\u001b[0m\n\u001b[1;32m      5\u001b[0m \u001b[0;34m\u001b[0m\u001b[0m\n\u001b[1;32m      6\u001b[0m \u001b[0;31m# Initialize the EasyOCR reader\u001b[0m\u001b[0;34m\u001b[0m\u001b[0;34m\u001b[0m\u001b[0;34m\u001b[0m\u001b[0m\n\u001b[0;32m----> 7\u001b[0;31m \u001b[0mreader\u001b[0m \u001b[0;34m=\u001b[0m \u001b[0measyocr\u001b[0m\u001b[0;34m.\u001b[0m\u001b[0mReader\u001b[0m\u001b[0;34m(\u001b[0m\u001b[0;34m[\u001b[0m\u001b[0;34m'en'\u001b[0m\u001b[0;34m]\u001b[0m\u001b[0;34m)\u001b[0m\u001b[0;34m\u001b[0m\u001b[0;34m\u001b[0m\u001b[0m\n\u001b[0m\u001b[1;32m      8\u001b[0m \u001b[0;34m\u001b[0m\u001b[0m\n\u001b[1;32m      9\u001b[0m \u001b[0;31m# Define regular expressions to match nutrient information\u001b[0m\u001b[0;34m\u001b[0m\u001b[0;34m\u001b[0m\u001b[0;34m\u001b[0m\u001b[0m\n",
      "\u001b[0;32m~/anaconda3/envs/myenv/lib/python3.7/site-packages/easyocr/easyocr.py\u001b[0m in \u001b[0;36m__init__\u001b[0;34m(self, lang_list, gpu, model_storage_directory, user_network_directory, detect_network, recog_network, download_enabled, detector, recognizer, verbose, quantize, cudnn_benchmark)\u001b[0m\n\u001b[1;32m     73\u001b[0m             \u001b[0;32mif\u001b[0m \u001b[0mtorch\u001b[0m\u001b[0;34m.\u001b[0m\u001b[0mcuda\u001b[0m\u001b[0;34m.\u001b[0m\u001b[0mis_available\u001b[0m\u001b[0;34m(\u001b[0m\u001b[0;34m)\u001b[0m\u001b[0;34m:\u001b[0m\u001b[0;34m\u001b[0m\u001b[0;34m\u001b[0m\u001b[0m\n\u001b[1;32m     74\u001b[0m                 \u001b[0mself\u001b[0m\u001b[0;34m.\u001b[0m\u001b[0mdevice\u001b[0m \u001b[0;34m=\u001b[0m \u001b[0;34m'cuda'\u001b[0m\u001b[0;34m\u001b[0m\u001b[0;34m\u001b[0m\u001b[0m\n\u001b[0;32m---> 75\u001b[0;31m             \u001b[0;32melif\u001b[0m \u001b[0mtorch\u001b[0m\u001b[0;34m.\u001b[0m\u001b[0mbackends\u001b[0m\u001b[0;34m.\u001b[0m\u001b[0mmps\u001b[0m\u001b[0;34m.\u001b[0m\u001b[0mis_available\u001b[0m\u001b[0;34m(\u001b[0m\u001b[0;34m)\u001b[0m\u001b[0;34m:\u001b[0m\u001b[0;34m\u001b[0m\u001b[0;34m\u001b[0m\u001b[0m\n\u001b[0m\u001b[1;32m     76\u001b[0m                 \u001b[0mself\u001b[0m\u001b[0;34m.\u001b[0m\u001b[0mdevice\u001b[0m \u001b[0;34m=\u001b[0m \u001b[0;34m'mps'\u001b[0m\u001b[0;34m\u001b[0m\u001b[0;34m\u001b[0m\u001b[0m\n\u001b[1;32m     77\u001b[0m             \u001b[0;32melse\u001b[0m\u001b[0;34m:\u001b[0m\u001b[0;34m\u001b[0m\u001b[0;34m\u001b[0m\u001b[0m\n",
      "\u001b[0;31mAttributeError\u001b[0m: module 'torch.backends' has no attribute 'mps'"
     ]
    }
   ],
   "source": [
    "import easyocr\n",
    "import re\n",
    "import os\n",
    "import csv\n",
    "\n",
    "# Initialize the EasyOCR reader\n",
    "reader = easyocr.Reader(['en'])\n",
    "\n",
    "# Define regular expressions to match nutrient information\n",
    "nutrient_patterns = [\n",
    "    r'Calories: (\\d+)',\n",
    "    r'Total Fat (\\d+[.]?\\d*)g',\n",
    "    r'Saturated Fat (\\d+[.]?\\d*)g',\n",
    "    r'Trans Fat (\\d+[.]?\\d*)g',\n",
    "    r'Cholesterol (\\d+[.]?\\d*)mg',\n",
    "    r'Sodium (\\d+[.]?\\d*)mg',\n",
    "    r'Total Carbohydrate (\\d+[.]?\\d*)g',\n",
    "    r'Dietary Fiber (\\d+[.]?\\d*)g',\n",
    "    r'Total Sugars (\\d+[.]?\\d*)g',\n",
    "    r'Protein (\\d+[.]?\\d*)g',\n",
    "    r'Vitamin D (\\d+[.]?\\d*)mcg',\n",
    "    r'Calcium (\\d+[.]?\\d*)mg',\n",
    "    r'Iron (\\d+[.]?\\d*)mg',\n",
    "    r'Potassium (\\d+[.]?\\d*)mg'\n",
    "]\n",
    "\n",
    "# Create or open a CSV file to store the results\n",
    "with open('nutrient_results.csv', mode='w', newline='') as result_file:\n",
    "    result_writer = csv.writer(result_file)\n",
    "    # Write a header row to the CSV file\n",
    "    result_writer.writerow(['Image Name'] + [f'Nutrient {i}' for i in range(1, len(nutrient_patterns) + 1)])\n",
    "    \n",
    "    # Loop through all image files in a directory\n",
    "    image_dir = '/images/'\n",
    "    for filename in os.listdir(image_dir):\n",
    "        if filename.endswith('.png'):\n",
    "            image_path = os.path.join(image_dir, filename)\n",
    "            \n",
    "            # Extract nutrient information from the current image\n",
    "            nutrient_info = {'Image Name': filename}\n",
    "            result = reader.readtext(image_path)\n",
    "            \n",
    "            for text in result:\n",
    "                for pattern in nutrient_patterns:\n",
    "                    match = re.search(pattern, text[1])\n",
    "                    if match:\n",
    "                        nutrient_info[pattern] = match.group(1)\n",
    "            \n",
    "            # Write the results to the CSV file\n",
    "            result_writer.writerow([nutrient_info.get(key, '') for key in ['Image Name'] + nutrient_patterns])\n",
    "\n",
    "print('Results saved to nutrient_results.csv')\n"
   ]
  },
  {
   "cell_type": "code",
   "execution_count": null,
   "id": "7319b38c",
   "metadata": {},
   "outputs": [],
   "source": []
  }
 ],
 "metadata": {
  "kernelspec": {
   "display_name": "Python 3 (ipykernel)",
   "language": "python",
   "name": "python3"
  },
  "language_info": {
   "codemirror_mode": {
    "name": "ipython",
    "version": 3
   },
   "file_extension": ".py",
   "mimetype": "text/x-python",
   "name": "python",
   "nbconvert_exporter": "python",
   "pygments_lexer": "ipython3",
   "version": "3.7.16"
  }
 },
 "nbformat": 4,
 "nbformat_minor": 5
}
