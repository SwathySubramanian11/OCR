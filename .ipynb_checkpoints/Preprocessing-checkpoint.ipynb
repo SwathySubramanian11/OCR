{
 "cells": [
  {
   "cell_type": "code",
   "execution_count": 1,
   "id": "4fde1fc4",
   "metadata": {},
   "outputs": [
    {
     "name": "stdout",
     "output_type": "stream",
     "text": [
      "Requirement already satisfied: opencv-python in /home/swathy/anaconda3/envs/myenv/lib/python3.7/site-packages (4.8.0.76)\n",
      "Requirement already satisfied: numpy>=1.17.0 in /home/swathy/anaconda3/envs/myenv/lib/python3.7/site-packages (from opencv-python) (1.21.6)\n",
      "Requirement already satisfied: matplotlib in /home/swathy/anaconda3/envs/myenv/lib/python3.7/site-packages (3.5.3)\n",
      "Requirement already satisfied: kiwisolver>=1.0.1 in /home/swathy/anaconda3/envs/myenv/lib/python3.7/site-packages (from matplotlib) (1.4.5)\n",
      "Requirement already satisfied: pillow>=6.2.0 in /home/swathy/anaconda3/envs/myenv/lib/python3.7/site-packages (from matplotlib) (9.5.0)\n",
      "Requirement already satisfied: numpy>=1.17 in /home/swathy/anaconda3/envs/myenv/lib/python3.7/site-packages (from matplotlib) (1.21.6)\n",
      "Requirement already satisfied: python-dateutil>=2.7 in /home/swathy/anaconda3/envs/myenv/lib/python3.7/site-packages (from matplotlib) (2.8.2)\n",
      "Requirement already satisfied: pyparsing>=2.2.1 in /home/swathy/anaconda3/envs/myenv/lib/python3.7/site-packages (from matplotlib) (3.1.1)\n",
      "Requirement already satisfied: packaging>=20.0 in /home/swathy/anaconda3/envs/myenv/lib/python3.7/site-packages (from matplotlib) (23.1)\n",
      "Requirement already satisfied: cycler>=0.10 in /home/swathy/anaconda3/envs/myenv/lib/python3.7/site-packages (from matplotlib) (0.11.0)\n",
      "Requirement already satisfied: fonttools>=4.22.0 in /home/swathy/anaconda3/envs/myenv/lib/python3.7/site-packages (from matplotlib) (4.38.0)\n",
      "Requirement already satisfied: typing-extensions in /home/swathy/anaconda3/envs/myenv/lib/python3.7/site-packages (from kiwisolver>=1.0.1->matplotlib) (4.7.1)\n",
      "Requirement already satisfied: six>=1.5 in /home/swathy/anaconda3/envs/myenv/lib/python3.7/site-packages (from python-dateutil>=2.7->matplotlib) (1.16.0)\n",
      "Requirement already satisfied: numpy in /home/swathy/anaconda3/envs/myenv/lib/python3.7/site-packages (1.21.6)\n"
     ]
    }
   ],
   "source": [
    "!pip install opencv-python\n",
    "!pip install matplotlib\n",
    "!pip install numpy"
   ]
  },
  {
   "cell_type": "code",
   "execution_count": 2,
   "id": "db15cd4c",
   "metadata": {},
   "outputs": [
    {
     "name": "stdout",
     "output_type": "stream",
     "text": [
      "Looking in links: https://download.pytorch.org/whl/torch_stable.html\n",
      "Collecting torch==1.7.1+cpu\n",
      "  Using cached https://download.pytorch.org/whl/cpu/torch-1.7.1%2Bcpu-cp37-cp37m-linux_x86_64.whl (159.4 MB)\n",
      "Requirement already satisfied: torchvision==0.8.2+cpu in /home/swathy/anaconda3/envs/myenv/lib/python3.7/site-packages (0.8.2+cpu)\n",
      "Requirement already satisfied: torchaudio===0.7.2 in /home/swathy/anaconda3/envs/myenv/lib/python3.7/site-packages (0.7.2)\n",
      "Requirement already satisfied: typing-extensions in /home/swathy/anaconda3/envs/myenv/lib/python3.7/site-packages (from torch==1.7.1+cpu) (4.7.1)\n",
      "Requirement already satisfied: numpy in /home/swathy/anaconda3/envs/myenv/lib/python3.7/site-packages (from torch==1.7.1+cpu) (1.21.6)\n",
      "Requirement already satisfied: pillow>=4.1.1 in /home/swathy/anaconda3/envs/myenv/lib/python3.7/site-packages (from torchvision==0.8.2+cpu) (9.5.0)\n",
      "Installing collected packages: torch\n",
      "  Attempting uninstall: torch\n",
      "    Found existing installation: torch 1.7.1\n",
      "    Uninstalling torch-1.7.1:\n",
      "      Successfully uninstalled torch-1.7.1\n",
      "Successfully installed torch-1.7.1+cpu\n",
      "Requirement already satisfied: easyocr in /home/swathy/anaconda3/envs/myenv/lib/python3.7/site-packages (1.7.1)\n",
      "Requirement already satisfied: scikit-image in /home/swathy/anaconda3/envs/myenv/lib/python3.7/site-packages (from easyocr) (0.19.3)\n",
      "Requirement already satisfied: pyclipper in /home/swathy/anaconda3/envs/myenv/lib/python3.7/site-packages (from easyocr) (1.3.0.post5)\n",
      "Requirement already satisfied: ninja in /home/swathy/anaconda3/envs/myenv/lib/python3.7/site-packages (from easyocr) (1.11.1)\n",
      "Requirement already satisfied: Shapely in /home/swathy/anaconda3/envs/myenv/lib/python3.7/site-packages (from easyocr) (2.0.1)\n",
      "Requirement already satisfied: torch in /home/swathy/anaconda3/envs/myenv/lib/python3.7/site-packages (from easyocr) (1.7.1+cpu)\n",
      "Requirement already satisfied: Pillow in /home/swathy/anaconda3/envs/myenv/lib/python3.7/site-packages (from easyocr) (9.5.0)\n",
      "Requirement already satisfied: python-bidi in /home/swathy/anaconda3/envs/myenv/lib/python3.7/site-packages (from easyocr) (0.4.2)\n",
      "Requirement already satisfied: PyYAML in /home/swathy/anaconda3/envs/myenv/lib/python3.7/site-packages (from easyocr) (6.0.1)\n",
      "Requirement already satisfied: numpy in /home/swathy/anaconda3/envs/myenv/lib/python3.7/site-packages (from easyocr) (1.21.6)\n",
      "Requirement already satisfied: scipy in /home/swathy/anaconda3/envs/myenv/lib/python3.7/site-packages (from easyocr) (1.7.3)\n",
      "Requirement already satisfied: opencv-python-headless in /home/swathy/anaconda3/envs/myenv/lib/python3.7/site-packages (from easyocr) (4.8.0.76)\n",
      "Requirement already satisfied: torchvision>=0.5 in /home/swathy/anaconda3/envs/myenv/lib/python3.7/site-packages (from easyocr) (0.8.2+cpu)\n",
      "Requirement already satisfied: typing-extensions in /home/swathy/anaconda3/envs/myenv/lib/python3.7/site-packages (from torch->easyocr) (4.7.1)\n",
      "Requirement already satisfied: six in /home/swathy/anaconda3/envs/myenv/lib/python3.7/site-packages (from python-bidi->easyocr) (1.16.0)\n",
      "Requirement already satisfied: packaging>=20.0 in /home/swathy/anaconda3/envs/myenv/lib/python3.7/site-packages (from scikit-image->easyocr) (23.1)\n",
      "Requirement already satisfied: tifffile>=2019.7.26 in /home/swathy/anaconda3/envs/myenv/lib/python3.7/site-packages (from scikit-image->easyocr) (2021.11.2)\n",
      "Requirement already satisfied: PyWavelets>=1.1.1 in /home/swathy/anaconda3/envs/myenv/lib/python3.7/site-packages (from scikit-image->easyocr) (1.3.0)\n",
      "Requirement already satisfied: imageio>=2.4.1 in /home/swathy/anaconda3/envs/myenv/lib/python3.7/site-packages (from scikit-image->easyocr) (2.31.2)\n",
      "Requirement already satisfied: networkx>=2.2 in /home/swathy/anaconda3/envs/myenv/lib/python3.7/site-packages (from scikit-image->easyocr) (2.6.3)\n"
     ]
    }
   ],
   "source": [
    "!pip install torch==1.7.1+cpu torchvision==0.8.2+cpu torchaudio===0.7.2 -f https://download.pytorch.org/whl/torch_stable.html\n",
    "!pip install easyocr"
   ]
  },
  {
   "cell_type": "code",
   "execution_count": null,
   "id": "3efd0366",
   "metadata": {},
   "outputs": [],
   "source": [
    "!pip install pytesseract pillow"
   ]
  },
  {
   "cell_type": "code",
   "execution_count": null,
   "id": "dace2649",
   "metadata": {},
   "outputs": [],
   "source": [
    "from PIL import Image\n",
    "\n",
    "image = Image.open('./images/test.png')"
   ]
  },
  {
   "cell_type": "code",
   "execution_count": null,
   "id": "dd556bb8",
   "metadata": {},
   "outputs": [],
   "source": [
    "import pytesseract\n",
    "\n",
    "pytesseract.pytesseract.tesseract_cmd = '/usr/bin/tesseract'"
   ]
  },
  {
   "cell_type": "code",
   "execution_count": 20,
   "id": "a3d61e46",
   "metadata": {},
   "outputs": [
    {
     "ename": "TesseractNotFoundError",
     "evalue": "/path/to/tesseract is not installed or it's not in your PATH. See README file for more information.",
     "output_type": "error",
     "traceback": [
      "\u001b[0;31m---------------------------------------------------------------------------\u001b[0m",
      "\u001b[0;31mFileNotFoundError\u001b[0m                         Traceback (most recent call last)",
      "\u001b[0;32m~/anaconda3/envs/myenv/lib/python3.7/site-packages/pytesseract/pytesseract.py\u001b[0m in \u001b[0;36mrun_tesseract\u001b[0;34m(input_filename, output_filename_base, extension, lang, config, nice, timeout)\u001b[0m\n\u001b[1;32m    254\u001b[0m     \u001b[0;32mtry\u001b[0m\u001b[0;34m:\u001b[0m\u001b[0;34m\u001b[0m\u001b[0;34m\u001b[0m\u001b[0m\n\u001b[0;32m--> 255\u001b[0;31m         \u001b[0mproc\u001b[0m \u001b[0;34m=\u001b[0m \u001b[0msubprocess\u001b[0m\u001b[0;34m.\u001b[0m\u001b[0mPopen\u001b[0m\u001b[0;34m(\u001b[0m\u001b[0mcmd_args\u001b[0m\u001b[0;34m,\u001b[0m \u001b[0;34m**\u001b[0m\u001b[0msubprocess_args\u001b[0m\u001b[0;34m(\u001b[0m\u001b[0;34m)\u001b[0m\u001b[0;34m)\u001b[0m\u001b[0;34m\u001b[0m\u001b[0;34m\u001b[0m\u001b[0m\n\u001b[0m\u001b[1;32m    256\u001b[0m     \u001b[0;32mexcept\u001b[0m \u001b[0mOSError\u001b[0m \u001b[0;32mas\u001b[0m \u001b[0me\u001b[0m\u001b[0;34m:\u001b[0m\u001b[0;34m\u001b[0m\u001b[0;34m\u001b[0m\u001b[0m\n",
      "\u001b[0;32m~/anaconda3/envs/myenv/lib/python3.7/subprocess.py\u001b[0m in \u001b[0;36m__init__\u001b[0;34m(self, args, bufsize, executable, stdin, stdout, stderr, preexec_fn, close_fds, shell, cwd, env, universal_newlines, startupinfo, creationflags, restore_signals, start_new_session, pass_fds, encoding, errors, text)\u001b[0m\n\u001b[1;32m    799\u001b[0m                                 \u001b[0merrread\u001b[0m\u001b[0;34m,\u001b[0m \u001b[0merrwrite\u001b[0m\u001b[0;34m,\u001b[0m\u001b[0;34m\u001b[0m\u001b[0;34m\u001b[0m\u001b[0m\n\u001b[0;32m--> 800\u001b[0;31m                                 restore_signals, start_new_session)\n\u001b[0m\u001b[1;32m    801\u001b[0m         \u001b[0;32mexcept\u001b[0m\u001b[0;34m:\u001b[0m\u001b[0;34m\u001b[0m\u001b[0;34m\u001b[0m\u001b[0m\n",
      "\u001b[0;32m~/anaconda3/envs/myenv/lib/python3.7/subprocess.py\u001b[0m in \u001b[0;36m_execute_child\u001b[0;34m(self, args, executable, preexec_fn, close_fds, pass_fds, cwd, env, startupinfo, creationflags, shell, p2cread, p2cwrite, c2pread, c2pwrite, errread, errwrite, restore_signals, start_new_session)\u001b[0m\n\u001b[1;32m   1550\u001b[0m                             \u001b[0merr_msg\u001b[0m \u001b[0;34m+=\u001b[0m \u001b[0;34m': '\u001b[0m \u001b[0;34m+\u001b[0m \u001b[0mrepr\u001b[0m\u001b[0;34m(\u001b[0m\u001b[0merr_filename\u001b[0m\u001b[0;34m)\u001b[0m\u001b[0;34m\u001b[0m\u001b[0;34m\u001b[0m\u001b[0m\n\u001b[0;32m-> 1551\u001b[0;31m                     \u001b[0;32mraise\u001b[0m \u001b[0mchild_exception_type\u001b[0m\u001b[0;34m(\u001b[0m\u001b[0merrno_num\u001b[0m\u001b[0;34m,\u001b[0m \u001b[0merr_msg\u001b[0m\u001b[0;34m,\u001b[0m \u001b[0merr_filename\u001b[0m\u001b[0;34m)\u001b[0m\u001b[0;34m\u001b[0m\u001b[0;34m\u001b[0m\u001b[0m\n\u001b[0m\u001b[1;32m   1552\u001b[0m                 \u001b[0;32mraise\u001b[0m \u001b[0mchild_exception_type\u001b[0m\u001b[0;34m(\u001b[0m\u001b[0merr_msg\u001b[0m\u001b[0;34m)\u001b[0m\u001b[0;34m\u001b[0m\u001b[0;34m\u001b[0m\u001b[0m\n",
      "\u001b[0;31mFileNotFoundError\u001b[0m: [Errno 2] No such file or directory: '/path/to/tesseract': '/path/to/tesseract'",
      "\nDuring handling of the above exception, another exception occurred:\n",
      "\u001b[0;31mTesseractNotFoundError\u001b[0m                    Traceback (most recent call last)",
      "\u001b[0;32m/tmp/ipykernel_9782/3207885660.py\u001b[0m in \u001b[0;36m<module>\u001b[0;34m\u001b[0m\n\u001b[0;32m----> 1\u001b[0;31m \u001b[0mtext\u001b[0m \u001b[0;34m=\u001b[0m \u001b[0mpytesseract\u001b[0m\u001b[0;34m.\u001b[0m\u001b[0mimage_to_string\u001b[0m\u001b[0;34m(\u001b[0m\u001b[0mimage\u001b[0m\u001b[0;34m)\u001b[0m\u001b[0;34m\u001b[0m\u001b[0;34m\u001b[0m\u001b[0m\n\u001b[0m\u001b[1;32m      2\u001b[0m \u001b[0;34m\u001b[0m\u001b[0m\n\u001b[1;32m      3\u001b[0m \u001b[0;32mfor\u001b[0m \u001b[0mchar\u001b[0m \u001b[0;32min\u001b[0m \u001b[0mtext\u001b[0m\u001b[0;34m:\u001b[0m\u001b[0;34m\u001b[0m\u001b[0;34m\u001b[0m\u001b[0m\n\u001b[1;32m      4\u001b[0m     \u001b[0mprint\u001b[0m\u001b[0;34m(\u001b[0m\u001b[0mchar\u001b[0m\u001b[0;34m)\u001b[0m\u001b[0;34m\u001b[0m\u001b[0;34m\u001b[0m\u001b[0m\n",
      "\u001b[0;32m~/anaconda3/envs/myenv/lib/python3.7/site-packages/pytesseract/pytesseract.py\u001b[0m in \u001b[0;36mimage_to_string\u001b[0;34m(image, lang, config, nice, output_type, timeout)\u001b[0m\n\u001b[1;32m    425\u001b[0m         \u001b[0mOutput\u001b[0m\u001b[0;34m.\u001b[0m\u001b[0mDICT\u001b[0m\u001b[0;34m:\u001b[0m \u001b[0;32mlambda\u001b[0m\u001b[0;34m:\u001b[0m \u001b[0;34m{\u001b[0m\u001b[0;34m'text'\u001b[0m\u001b[0;34m:\u001b[0m \u001b[0mrun_and_get_output\u001b[0m\u001b[0;34m(\u001b[0m\u001b[0;34m*\u001b[0m\u001b[0margs\u001b[0m\u001b[0;34m)\u001b[0m\u001b[0;34m}\u001b[0m\u001b[0;34m,\u001b[0m\u001b[0;34m\u001b[0m\u001b[0;34m\u001b[0m\u001b[0m\n\u001b[1;32m    426\u001b[0m         \u001b[0mOutput\u001b[0m\u001b[0;34m.\u001b[0m\u001b[0mSTRING\u001b[0m\u001b[0;34m:\u001b[0m \u001b[0;32mlambda\u001b[0m\u001b[0;34m:\u001b[0m \u001b[0mrun_and_get_output\u001b[0m\u001b[0;34m(\u001b[0m\u001b[0;34m*\u001b[0m\u001b[0margs\u001b[0m\u001b[0;34m)\u001b[0m\u001b[0;34m,\u001b[0m\u001b[0;34m\u001b[0m\u001b[0;34m\u001b[0m\u001b[0m\n\u001b[0;32m--> 427\u001b[0;31m     }[output_type]()\n\u001b[0m\u001b[1;32m    428\u001b[0m \u001b[0;34m\u001b[0m\u001b[0m\n\u001b[1;32m    429\u001b[0m \u001b[0;34m\u001b[0m\u001b[0m\n",
      "\u001b[0;32m~/anaconda3/envs/myenv/lib/python3.7/site-packages/pytesseract/pytesseract.py\u001b[0m in \u001b[0;36m<lambda>\u001b[0;34m()\u001b[0m\n\u001b[1;32m    424\u001b[0m         \u001b[0mOutput\u001b[0m\u001b[0;34m.\u001b[0m\u001b[0mBYTES\u001b[0m\u001b[0;34m:\u001b[0m \u001b[0;32mlambda\u001b[0m\u001b[0;34m:\u001b[0m \u001b[0mrun_and_get_output\u001b[0m\u001b[0;34m(\u001b[0m\u001b[0;34m*\u001b[0m\u001b[0;34m(\u001b[0m\u001b[0margs\u001b[0m \u001b[0;34m+\u001b[0m \u001b[0;34m[\u001b[0m\u001b[0;32mTrue\u001b[0m\u001b[0;34m]\u001b[0m\u001b[0;34m)\u001b[0m\u001b[0;34m)\u001b[0m\u001b[0;34m,\u001b[0m\u001b[0;34m\u001b[0m\u001b[0;34m\u001b[0m\u001b[0m\n\u001b[1;32m    425\u001b[0m         \u001b[0mOutput\u001b[0m\u001b[0;34m.\u001b[0m\u001b[0mDICT\u001b[0m\u001b[0;34m:\u001b[0m \u001b[0;32mlambda\u001b[0m\u001b[0;34m:\u001b[0m \u001b[0;34m{\u001b[0m\u001b[0;34m'text'\u001b[0m\u001b[0;34m:\u001b[0m \u001b[0mrun_and_get_output\u001b[0m\u001b[0;34m(\u001b[0m\u001b[0;34m*\u001b[0m\u001b[0margs\u001b[0m\u001b[0;34m)\u001b[0m\u001b[0;34m}\u001b[0m\u001b[0;34m,\u001b[0m\u001b[0;34m\u001b[0m\u001b[0;34m\u001b[0m\u001b[0m\n\u001b[0;32m--> 426\u001b[0;31m         \u001b[0mOutput\u001b[0m\u001b[0;34m.\u001b[0m\u001b[0mSTRING\u001b[0m\u001b[0;34m:\u001b[0m \u001b[0;32mlambda\u001b[0m\u001b[0;34m:\u001b[0m \u001b[0mrun_and_get_output\u001b[0m\u001b[0;34m(\u001b[0m\u001b[0;34m*\u001b[0m\u001b[0margs\u001b[0m\u001b[0;34m)\u001b[0m\u001b[0;34m,\u001b[0m\u001b[0;34m\u001b[0m\u001b[0;34m\u001b[0m\u001b[0m\n\u001b[0m\u001b[1;32m    427\u001b[0m     }[output_type]()\n\u001b[1;32m    428\u001b[0m \u001b[0;34m\u001b[0m\u001b[0m\n",
      "\u001b[0;32m~/anaconda3/envs/myenv/lib/python3.7/site-packages/pytesseract/pytesseract.py\u001b[0m in \u001b[0;36mrun_and_get_output\u001b[0;34m(image, extension, lang, config, nice, timeout, return_bytes)\u001b[0m\n\u001b[1;32m    286\u001b[0m         }\n\u001b[1;32m    287\u001b[0m \u001b[0;34m\u001b[0m\u001b[0m\n\u001b[0;32m--> 288\u001b[0;31m         \u001b[0mrun_tesseract\u001b[0m\u001b[0;34m(\u001b[0m\u001b[0;34m**\u001b[0m\u001b[0mkwargs\u001b[0m\u001b[0;34m)\u001b[0m\u001b[0;34m\u001b[0m\u001b[0;34m\u001b[0m\u001b[0m\n\u001b[0m\u001b[1;32m    289\u001b[0m         \u001b[0mfilename\u001b[0m \u001b[0;34m=\u001b[0m \u001b[0;34mf\"{kwargs['output_filename_base']}{extsep}{extension}\"\u001b[0m\u001b[0;34m\u001b[0m\u001b[0;34m\u001b[0m\u001b[0m\n\u001b[1;32m    290\u001b[0m         \u001b[0;32mwith\u001b[0m \u001b[0mopen\u001b[0m\u001b[0;34m(\u001b[0m\u001b[0mfilename\u001b[0m\u001b[0;34m,\u001b[0m \u001b[0;34m'rb'\u001b[0m\u001b[0;34m)\u001b[0m \u001b[0;32mas\u001b[0m \u001b[0moutput_file\u001b[0m\u001b[0;34m:\u001b[0m\u001b[0;34m\u001b[0m\u001b[0;34m\u001b[0m\u001b[0m\n",
      "\u001b[0;32m~/anaconda3/envs/myenv/lib/python3.7/site-packages/pytesseract/pytesseract.py\u001b[0m in \u001b[0;36mrun_tesseract\u001b[0;34m(input_filename, output_filename_base, extension, lang, config, nice, timeout)\u001b[0m\n\u001b[1;32m    258\u001b[0m             \u001b[0;32mraise\u001b[0m\u001b[0;34m\u001b[0m\u001b[0;34m\u001b[0m\u001b[0m\n\u001b[1;32m    259\u001b[0m         \u001b[0;32melse\u001b[0m\u001b[0;34m:\u001b[0m\u001b[0;34m\u001b[0m\u001b[0;34m\u001b[0m\u001b[0m\n\u001b[0;32m--> 260\u001b[0;31m             \u001b[0;32mraise\u001b[0m \u001b[0mTesseractNotFoundError\u001b[0m\u001b[0;34m(\u001b[0m\u001b[0;34m)\u001b[0m\u001b[0;34m\u001b[0m\u001b[0;34m\u001b[0m\u001b[0m\n\u001b[0m\u001b[1;32m    261\u001b[0m \u001b[0;34m\u001b[0m\u001b[0m\n\u001b[1;32m    262\u001b[0m     \u001b[0;32mwith\u001b[0m \u001b[0mtimeout_manager\u001b[0m\u001b[0;34m(\u001b[0m\u001b[0mproc\u001b[0m\u001b[0;34m,\u001b[0m \u001b[0mtimeout\u001b[0m\u001b[0;34m)\u001b[0m \u001b[0;32mas\u001b[0m \u001b[0merror_string\u001b[0m\u001b[0;34m:\u001b[0m\u001b[0;34m\u001b[0m\u001b[0;34m\u001b[0m\u001b[0m\n",
      "\u001b[0;31mTesseractNotFoundError\u001b[0m: /path/to/tesseract is not installed or it's not in your PATH. See README file for more information."
     ]
    }
   ],
   "source": [
    "text = pytesseract.image_to_string(image)\n",
    "\n",
    "for char in text:\n",
    "    print(char)"
   ]
  },
  {
   "cell_type": "code",
   "execution_count": 13,
   "id": "6ba93293",
   "metadata": {},
   "outputs": [],
   "source": [
    "im_1_path = './images/test.png'"
   ]
  },
  {
   "cell_type": "code",
   "execution_count": 14,
   "id": "12dda20e",
   "metadata": {},
   "outputs": [],
   "source": [
    "import easyocr\n",
    "\n",
    "def preprocess_image(img_path):\n",
    "    # Load the image using OpenCV\n",
    "    image = cv2.imread(img_path)\n",
    "\n",
    "    # Convert the image to grayscale\n",
    "    gray_image = cv2.cvtColor(image, cv2.COLOR_BGR2GRAY)\n",
    "\n",
    "    # Apply thresholding to convert the image to binary format\n",
    "    _, binary_image = cv2.threshold(gray_image, 128, 255, cv2.THRESH_BINARY)\n",
    "\n",
    "    return binary_image\n",
    "\n",
    "def recognize_text(img_path):\n",
    "    '''loads an image and recognizes text.'''\n",
    "    \n",
    "    reader = easyocr.Reader(['en'], gpu=False)\n",
    "    return reader.readtext(img_path)"
   ]
  },
  {
   "cell_type": "code",
   "execution_count": 15,
   "id": "8078e617",
   "metadata": {},
   "outputs": [
    {
     "name": "stderr",
     "output_type": "stream",
     "text": [
      "Using CPU. Note: This module is much faster with a GPU.\n"
     ]
    }
   ],
   "source": [
    "result = recognize_text(im_1_path)"
   ]
  },
  {
   "cell_type": "code",
   "execution_count": 16,
   "id": "d9cfc632",
   "metadata": {},
   "outputs": [
    {
     "data": {
      "text/plain": [
       "[([[78, 4], [272, 4], [272, 32], [78, 32]],\n",
       "  'Nutrition Facts',\n",
       "  0.999960779374609),\n",
       " ([[88, 33], [211, 33], [211, 51], [88, 51]],\n",
       "  'servings per container',\n",
       "  0.8893723425580123),\n",
       " ([[78, 46], [161, 46], [161, 63], [78, 63]],\n",
       "  'Serving size',\n",
       "  0.6098731892756576),\n",
       " ([[183, 47], [271, 47], [271, 63], [183, 63]],\n",
       "  '2/3 cup (55g)',\n",
       "  0.7138219655630282),\n",
       " ([[79, 75], [183, 75], [183, 89], [79, 89]],\n",
       "  'Amount pcr scrving',\n",
       "  0.720149294525539),\n",
       " ([[78, 84], [170, 84], [170, 108], [78, 108]],\n",
       "  'Calories',\n",
       "  0.9998975809855964),\n",
       " ([[214, 80], [274, 80], [274, 110], [214, 110]], '230', 0.7062599062919617),\n",
       " ([[211, 115], [265, 115], [265, 127], [211, 127]],\n",
       "  'Dally Valuo',\n",
       "  0.7928596313680413),\n",
       " ([[81, 129], [143, 129], [143, 143], [81, 143]],\n",
       "  'Total Fat 8g',\n",
       "  0.5104386380021317),\n",
       " ([[245, 129], [271, 129], [271, 141], [245, 141]], '1020', 0.281950443983078),\n",
       " ([[93, 145], [167, 145], [167, 159], [93, 159]],\n",
       "  'Saturaled Fat 1g',\n",
       "  0.48367269475893726),\n",
       " ([[94, 160], [116, 160], [116, 168], [94, 168]],\n",
       "  'Teens',\n",
       "  0.10723571193740737),\n",
       " ([[119, 159], [149, 159], [149, 171], [119, 171]],\n",
       "  'Fat 07',\n",
       "  0.6975560714833704),\n",
       " ([[82, 176], [138, 176], [138, 184], [82, 184]],\n",
       "  'Cholcaicro',\n",
       "  0.43021581576478707),\n",
       " ([[82, 190], [120, 190], [120, 198], [82, 198]],\n",
       "  'Sodlum',\n",
       "  0.7873303843277925),\n",
       " ([[123, 189], [155, 189], [155, 203], [123, 203]],\n",
       "  'ICOmg',\n",
       "  0.8678178651721018),\n",
       " ([[81, 203], [205, 203], [205, 217], [81, 217]],\n",
       "  'Total Carbohydrate 379',\n",
       "  0.9393230564914105),\n",
       " ([[92, 222], [148, 222], [148, 230], [92, 230]],\n",
       "  'DDiennnFicel',\n",
       "  0.1680104708100231),\n",
       " ([[93, 235], [119, 235], [119, 247], [93, 247]], 'Tolal', 0.8033648116255633),\n",
       " ([[105, 250], [225, 250], [225, 264], [105, 264]],\n",
       "  'Incluces 10g Acded Sugars',\n",
       "  0.568516048290065),\n",
       " ([[245, 249], [271, 249], [271, 263], [245, 263]],\n",
       "  '2040',\n",
       "  0.2016555219888687),\n",
       " ([[82, 266], [134, 266], [134, 274], [82, 274]],\n",
       "  'Protcin 3',\n",
       "  0.7041470375337316),\n",
       " ([[82, 290], [114, 290], [114, 298], [82, 298]],\n",
       "  'Vnmin',\n",
       "  0.23272139511134868),\n",
       " ([[125, 289], [151, 289], [151, 301], [125, 301]],\n",
       "  '2mcg',\n",
       "  0.5114243030548096),\n",
       " ([[81, 303], [151, 303], [151, 317], [81, 317]],\n",
       "  'Cakium 260m1,9',\n",
       "  0.40897927121655026),\n",
       " ([[249, 305], [271, 305], [271, 317], [249, 317]],\n",
       "  '2080',\n",
       "  0.9009135961532593),\n",
       " ([[249, 319], [271, 319], [271, 331], [249, 331]],\n",
       "  '4580',\n",
       "  0.7589273452758789),\n",
       " ([[81, 335], [161, 335], [161, 347], [81, 347]],\n",
       "  'Potass Um 235m9',\n",
       "  0.5760400120953728),\n",
       " ([[108, 356], [226, 356], [226, 364], [108, 364]],\n",
       "  'DibdiL (DWe GicutAFuh',\n",
       "  0.0005664675935762936),\n",
       " ([[232, 356], [266, 356], [266, 364], [232, 364]],\n",
       "  'Flurain',\n",
       "  0.03221925324776717),\n",
       " ([[90, 364], [122, 364], [122, 372], [90, 372]],\n",
       "  'Rin&',\n",
       "  0.011019906960427761),\n",
       " ([[128, 364], [206, 364], [206, 372], [128, 372]],\n",
       "  'Aertl4baet',\n",
       "  0.005994200036385343),\n",
       " ([[222, 364], [268, 364], [268, 372], [222, 372]],\n",
       "  '100064e:',\n",
       "  0.004901669611732854),\n",
       " ([[84, 372], [128, 372], [128, 380], [84, 380]],\n",
       "  'Jodu',\n",
       "  0.037212830036878586),\n",
       " ([[140, 372], [214, 372], [214, 380], [140, 380]],\n",
       "  'Amuinuiicoeac',\n",
       "  0.00296874402865051),\n",
       " ([[143.3273272060037, 174.26005992660404],\n",
       "   [164.97513285579146, 177.77837889641103],\n",
       "   [163.6726727939963, 186.73994007339596],\n",
       "   [141.02486714420854, 183.22162110358897]],\n",
       "  'Ou]',\n",
       "  0.04594923684335568),\n",
       " ([[117.35981560033552, 234.23177872040262],\n",
       "   [148.98177985059027, 237.80997809343413],\n",
       "   [147.6401843996645, 247.76822127959738],\n",
       "   [116.01822014940971, 244.19002190656587]],\n",
       "  '309416',\n",
       "  0.1729002290997097),\n",
       " ([[99.3902892391503, 318.2073760108954],\n",
       "   [123.95242414719932, 321.6952242728962],\n",
       "   [121.6097107608497, 332.7926239891046],\n",
       "   [97.04757585280068, 330.3047757271038]],\n",
       "  'Pmg',\n",
       "  0.7981095477170983)]"
      ]
     },
     "execution_count": 16,
     "metadata": {},
     "output_type": "execute_result"
    }
   ],
   "source": [
    "result"
   ]
  },
  {
   "cell_type": "code",
   "execution_count": 12,
   "id": "e064d30f",
   "metadata": {},
   "outputs": [
    {
     "name": "stdout",
     "output_type": "stream",
     "text": [
      "Text: Nutrition Facts], Confidence: 1.00\n",
      "Text: Ecn ccnincc, Confidence: 0.16\n",
      "Text: Stntine, Confidence: 0.02\n",
      "Text: 20J:up (Sso1, Confidence: 0.04\n",
      "Text: Calories, Confidence: 0.98\n",
      "Text: 230, Confidence: 1.00\n",
      "Text: eadale, Confidence: 0.00\n",
      "Text: Telrnnix, Confidence: 0.01\n",
      "Text: Safeled| J3, Confidence: 0.01\n",
      "Text: Dtlfaid, Confidence: 0.00\n",
      "Text: cheleetrrt {no, Confidence: 0.01\n",
      "Text: Tuuinin, Confidence: 0.02\n",
      "Text: TuladatlaleAn, Confidence: 0.00\n",
      "Text: Fialie | R 4a, Confidence: 0.01\n",
      "Text: Ialulgaun 17a, Confidence: 0.02\n",
      "Text: Jeten naclsum, Confidence: 0.00\n",
      "Text: Urelcln, Confidence: 0.07\n",
      "Text: adis, Confidence: 0.19\n",
      "Text: cora, Confidence: 0.03\n",
      "Text: Inon Am, Confidence: 0.11\n"
     ]
    }
   ],
   "source": [
    "for (bbox, text, prob) in result:\n",
    "    print(f\"Text: {text}, Confidence: {prob:.2f}\")"
   ]
  },
  {
   "cell_type": "code",
   "execution_count": null,
   "id": "28a0f393",
   "metadata": {},
   "outputs": [],
   "source": []
  }
 ],
 "metadata": {
  "kernelspec": {
   "display_name": "Python 3 (ipykernel)",
   "language": "python",
   "name": "python3"
  },
  "language_info": {
   "codemirror_mode": {
    "name": "ipython",
    "version": 3
   },
   "file_extension": ".py",
   "mimetype": "text/x-python",
   "name": "python",
   "nbconvert_exporter": "python",
   "pygments_lexer": "ipython3",
   "version": "3.7.16"
  }
 },
 "nbformat": 4,
 "nbformat_minor": 5
}
