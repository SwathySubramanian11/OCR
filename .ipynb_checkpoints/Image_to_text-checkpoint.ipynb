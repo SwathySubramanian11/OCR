{
 "cells": [
  {
   "cell_type": "code",
   "execution_count": 1,
   "id": "103f935d",
   "metadata": {},
   "outputs": [
    {
     "name": "stdout",
     "output_type": "stream",
     "text": [
      "Collecting opencv-python\n",
      "  Downloading opencv_python-4.8.0.76-cp37-abi3-manylinux_2_17_x86_64.manylinux2014_x86_64.whl (61.7 MB)\n",
      "\u001b[2K     \u001b[38;2;114;156;31m━━━━━━━━━━━━━━━━━━━━━━━━━━━━━━━━━━━━━━━━\u001b[0m \u001b[32m61.7/61.7 MB\u001b[0m \u001b[31m3.8 MB/s\u001b[0m eta \u001b[36m0:00:00\u001b[0mm eta \u001b[36m0:00:01\u001b[0m[36m0:00:01\u001b[0m\n",
      "\u001b[?25hCollecting numpy>=1.17.0\n",
      "  Using cached numpy-1.21.6-cp37-cp37m-manylinux_2_12_x86_64.manylinux2010_x86_64.whl (15.7 MB)\n",
      "Installing collected packages: numpy, opencv-python\n",
      "Successfully installed numpy-1.21.6 opencv-python-4.8.0.76\n",
      "Collecting matplotlib\n",
      "  Downloading matplotlib-3.5.3-cp37-cp37m-manylinux_2_5_x86_64.manylinux1_x86_64.whl (11.2 MB)\n",
      "\u001b[2K     \u001b[38;2;114;156;31m━━━━━━━━━━━━━━━━━━━━━━━━━━━━━━━━━━━━━━━━\u001b[0m \u001b[32m11.2/11.2 MB\u001b[0m \u001b[31m6.8 MB/s\u001b[0m eta \u001b[36m0:00:00\u001b[0mm eta \u001b[36m0:00:01\u001b[0m[36m0:00:01\u001b[0m\n",
      "\u001b[?25hRequirement already satisfied: python-dateutil>=2.7 in /home/swathy/anaconda3/envs/myenv/lib/python3.7/site-packages (from matplotlib) (2.8.2)\n",
      "Collecting pyparsing>=2.2.1\n",
      "  Downloading pyparsing-3.1.1-py3-none-any.whl (103 kB)\n",
      "\u001b[2K     \u001b[38;2;114;156;31m━━━━━━━━━━━━━━━━━━━━━━━━━━━━━━━━━━━━━━━\u001b[0m \u001b[32m103.1/103.1 kB\u001b[0m \u001b[31m9.5 MB/s\u001b[0m eta \u001b[36m0:00:00\u001b[0m\n",
      "\u001b[?25hCollecting fonttools>=4.22.0\n",
      "  Downloading fonttools-4.38.0-py3-none-any.whl (965 kB)\n",
      "\u001b[2K     \u001b[38;2;114;156;31m━━━━━━━━━━━━━━━━━━━━━━━━━━━━━━━━━━━━━━━\u001b[0m \u001b[32m965.4/965.4 kB\u001b[0m \u001b[31m7.1 MB/s\u001b[0m eta \u001b[36m0:00:00\u001b[0mm eta \u001b[36m0:00:01\u001b[0m[36m0:00:01\u001b[0m\n",
      "\u001b[?25hRequirement already satisfied: numpy>=1.17 in /home/swathy/anaconda3/envs/myenv/lib/python3.7/site-packages (from matplotlib) (1.21.6)\n",
      "Collecting kiwisolver>=1.0.1\n",
      "  Downloading kiwisolver-1.4.5-cp37-cp37m-manylinux_2_5_x86_64.manylinux1_x86_64.whl (1.1 MB)\n",
      "\u001b[2K     \u001b[38;2;114;156;31m━━━━━━━━━━━━━━━━━━━━━━━━━━━━━━━━━━━━━━━━\u001b[0m \u001b[32m1.1/1.1 MB\u001b[0m \u001b[31m7.3 MB/s\u001b[0m eta \u001b[36m0:00:00\u001b[0m[31m8.7 MB/s\u001b[0m eta \u001b[36m0:00:01\u001b[0m\n",
      "\u001b[?25hRequirement already satisfied: packaging>=20.0 in /home/swathy/anaconda3/envs/myenv/lib/python3.7/site-packages (from matplotlib) (23.1)\n",
      "Collecting cycler>=0.10\n",
      "  Downloading cycler-0.11.0-py3-none-any.whl (6.4 kB)\n",
      "Collecting pillow>=6.2.0\n",
      "  Downloading Pillow-9.5.0-cp37-cp37m-manylinux_2_28_x86_64.whl (3.4 MB)\n",
      "\u001b[2K     \u001b[38;2;114;156;31m━━━━━━━━━━━━━━━━━━━━━━━━━━━━━━━━━━━━━━━━\u001b[0m \u001b[32m3.4/3.4 MB\u001b[0m \u001b[31m8.1 MB/s\u001b[0m eta \u001b[36m0:00:00\u001b[0mm eta \u001b[36m0:00:01\u001b[0m[36m0:00:01\u001b[0m\n",
      "\u001b[?25hRequirement already satisfied: typing-extensions in /home/swathy/anaconda3/envs/myenv/lib/python3.7/site-packages (from kiwisolver>=1.0.1->matplotlib) (4.7.1)\n",
      "Requirement already satisfied: six>=1.5 in /home/swathy/anaconda3/envs/myenv/lib/python3.7/site-packages (from python-dateutil>=2.7->matplotlib) (1.16.0)\n",
      "Installing collected packages: pyparsing, pillow, kiwisolver, fonttools, cycler, matplotlib\n",
      "Successfully installed cycler-0.11.0 fonttools-4.38.0 kiwisolver-1.4.5 matplotlib-3.5.3 pillow-9.5.0 pyparsing-3.1.1\n",
      "Requirement already satisfied: numpy in /home/swathy/anaconda3/envs/myenv/lib/python3.7/site-packages (1.21.6)\n"
     ]
    }
   ],
   "source": [
    "!pip install opencv-python\n",
    "!pip install matplotlib\n",
    "!pip install numpy"
   ]
  },
  {
   "cell_type": "code",
   "execution_count": 8,
   "id": "9e1fa47b",
   "metadata": {},
   "outputs": [
    {
     "name": "stdout",
     "output_type": "stream",
     "text": [
      "Looking in links: https://download.pytorch.org/whl/torch_stable.html\n",
      "Requirement already satisfied: torch==1.7.1+cpu in /home/swathy/anaconda3/envs/myenv/lib/python3.7/site-packages (1.7.1+cpu)\n",
      "Requirement already satisfied: torchvision==0.8.2+cpu in /home/swathy/anaconda3/envs/myenv/lib/python3.7/site-packages (0.8.2+cpu)\n",
      "Requirement already satisfied: torchaudio===0.7.2 in /home/swathy/anaconda3/envs/myenv/lib/python3.7/site-packages (0.7.2)\n",
      "Requirement already satisfied: numpy in /home/swathy/anaconda3/envs/myenv/lib/python3.7/site-packages (from torch==1.7.1+cpu) (1.21.6)\n",
      "Requirement already satisfied: typing-extensions in /home/swathy/anaconda3/envs/myenv/lib/python3.7/site-packages (from torch==1.7.1+cpu) (4.7.1)\n",
      "Requirement already satisfied: pillow>=4.1.1 in /home/swathy/anaconda3/envs/myenv/lib/python3.7/site-packages (from torchvision==0.8.2+cpu) (9.5.0)\n",
      "Requirement already satisfied: easyocr in /home/swathy/anaconda3/envs/myenv/lib/python3.7/site-packages (1.7.1)\n",
      "Requirement already satisfied: numpy in /home/swathy/anaconda3/envs/myenv/lib/python3.7/site-packages (from easyocr) (1.21.6)\n",
      "Requirement already satisfied: scikit-image in /home/swathy/anaconda3/envs/myenv/lib/python3.7/site-packages (from easyocr) (0.19.3)\n",
      "Requirement already satisfied: PyYAML in /home/swathy/anaconda3/envs/myenv/lib/python3.7/site-packages (from easyocr) (6.0.1)\n",
      "Requirement already satisfied: python-bidi in /home/swathy/anaconda3/envs/myenv/lib/python3.7/site-packages (from easyocr) (0.4.2)\n",
      "Requirement already satisfied: Pillow in /home/swathy/anaconda3/envs/myenv/lib/python3.7/site-packages (from easyocr) (9.5.0)\n",
      "Requirement already satisfied: torch in /home/swathy/anaconda3/envs/myenv/lib/python3.7/site-packages (from easyocr) (1.7.1+cpu)\n",
      "Requirement already satisfied: Shapely in /home/swathy/anaconda3/envs/myenv/lib/python3.7/site-packages (from easyocr) (2.0.1)\n",
      "Requirement already satisfied: ninja in /home/swathy/anaconda3/envs/myenv/lib/python3.7/site-packages (from easyocr) (1.11.1)\n",
      "Requirement already satisfied: pyclipper in /home/swathy/anaconda3/envs/myenv/lib/python3.7/site-packages (from easyocr) (1.3.0.post5)\n",
      "Requirement already satisfied: opencv-python-headless in /home/swathy/anaconda3/envs/myenv/lib/python3.7/site-packages (from easyocr) (4.8.0.76)\n",
      "Requirement already satisfied: torchvision>=0.5 in /home/swathy/anaconda3/envs/myenv/lib/python3.7/site-packages (from easyocr) (0.8.2+cpu)\n",
      "Requirement already satisfied: scipy in /home/swathy/anaconda3/envs/myenv/lib/python3.7/site-packages (from easyocr) (1.7.3)\n",
      "Requirement already satisfied: typing-extensions in /home/swathy/anaconda3/envs/myenv/lib/python3.7/site-packages (from torch->easyocr) (4.7.1)\n",
      "Requirement already satisfied: six in /home/swathy/anaconda3/envs/myenv/lib/python3.7/site-packages (from python-bidi->easyocr) (1.16.0)\n",
      "Requirement already satisfied: imageio>=2.4.1 in /home/swathy/anaconda3/envs/myenv/lib/python3.7/site-packages (from scikit-image->easyocr) (2.31.2)\n",
      "Requirement already satisfied: networkx>=2.2 in /home/swathy/anaconda3/envs/myenv/lib/python3.7/site-packages (from scikit-image->easyocr) (2.6.3)\n",
      "Requirement already satisfied: packaging>=20.0 in /home/swathy/anaconda3/envs/myenv/lib/python3.7/site-packages (from scikit-image->easyocr) (23.1)\n",
      "Requirement already satisfied: PyWavelets>=1.1.1 in /home/swathy/anaconda3/envs/myenv/lib/python3.7/site-packages (from scikit-image->easyocr) (1.3.0)\n",
      "Requirement already satisfied: tifffile>=2019.7.26 in /home/swathy/anaconda3/envs/myenv/lib/python3.7/site-packages (from scikit-image->easyocr) (2021.11.2)\n"
     ]
    }
   ],
   "source": [
    "!pip install torch==1.7.1+cpu torchvision==0.8.2+cpu torchaudio===0.7.2 -f https://download.pytorch.org/whl/torch_stable.html\n",
    "!pip install easyocr"
   ]
  },
  {
   "cell_type": "code",
   "execution_count": 9,
   "id": "c390355d",
   "metadata": {},
   "outputs": [],
   "source": [
    "im_1_path = './images/test.png'\n",
    "im_2_path = './images/test1.png'\n",
    "im_3_path = './images/download.png'"
   ]
  },
  {
   "cell_type": "code",
   "execution_count": 10,
   "id": "158764c7",
   "metadata": {},
   "outputs": [],
   "source": [
    "import easyocr\n",
    "\n",
    "def recognize_text(img_path):\n",
    "    '''loads an image and recognizes text.'''\n",
    "    \n",
    "    reader = easyocr.Reader(['en'], gpu=False)\n",
    "    return reader.readtext(img_path)"
   ]
  },
  {
   "cell_type": "code",
   "execution_count": 33,
   "id": "bcff9675",
   "metadata": {
    "scrolled": true
   },
   "outputs": [
    {
     "name": "stderr",
     "output_type": "stream",
     "text": [
      "Using CPU. Note: This module is much faster with a GPU.\n"
     ]
    }
   ],
   "source": [
    "result = recognize_text(im_1_path)"
   ]
  },
  {
   "cell_type": "code",
   "execution_count": 34,
   "id": "ae871091",
   "metadata": {
    "scrolled": false
   },
   "outputs": [
    {
     "data": {
      "text/plain": [
       "[([[195, 11], [381, 11], [381, 56], [195, 56]],\n",
       "  'New Label',\n",
       "  0.928086552622159),\n",
       " ([[402, 12], [707, 12], [707, 56], [402, 56]],\n",
       "  \"What' s Different?\",\n",
       "  0.705338874790504),\n",
       " ([[266, 116], [640, 116], [640, 166], [266, 166]],\n",
       "  'Nutrition Facts',\n",
       "  0.9999423904513945),\n",
       " ([[80, 160], [209, 160], [209, 198], [80, 198]],\n",
       "  'Servings:',\n",
       "  0.9950467935741606),\n",
       " ([[266, 170], [518, 170], [518, 200], [266, 200]],\n",
       "  '8 servings per container',\n",
       "  0.9943925101485037),\n",
       " ([[694, 176], [867, 176], [867, 213], [694, 213]],\n",
       "  'Serving sizes',\n",
       "  0.9939790430413477),\n",
       " ([[119, 192], [209, 192], [209, 230], [119, 230]],\n",
       "  'larger;',\n",
       "  0.9798801192071859),\n",
       " ([[262, 189], [423, 189], [423, 225], [262, 225]],\n",
       "  'Serving size',\n",
       "  0.8846886511804793),\n",
       " ([[466, 196], [638, 196], [638, 226], [466, 226]],\n",
       "  '2/3 cup (s5g)',\n",
       "  0.7255584103300705),\n",
       " ([[696, 210], [804, 210], [804, 242], [696, 242]],\n",
       "  'updated',\n",
       "  0.9999986933503116),\n",
       " ([[61, 225], [209, 225], [209, 261], [61, 261]],\n",
       "  'bolder type',\n",
       "  0.9995022664281206),\n",
       " ([[266, 246], [470, 246], [470, 274], [266, 274]],\n",
       "  'Amount per serving',\n",
       "  0.7282418440884991),\n",
       " ([[696, 260], [814, 260], [814, 290], [696, 290]],\n",
       "  'Calories:',\n",
       "  0.9998937419638378),\n",
       " ([[265, 269], [441, 269], [441, 311], [265, 311]],\n",
       "  'Calories',\n",
       "  0.898557704069258),\n",
       " ([[530, 262], [640, 262], [640, 316], [530, 316]], '230', 0.9999940121825609),\n",
       " ([[692, 290], [835, 290], [835, 326], [692, 326]],\n",
       "  'larger type',\n",
       "  0.9989199070930361),\n",
       " ([[499, 327], [633, 327], [633, 347], [499, 347]],\n",
       "  '% Daily Value *',\n",
       "  0.5167159656933477),\n",
       " ([[268, 352], [392, 352], [392, 378], [268, 378]],\n",
       "  'Total Fat 8g',\n",
       "  0.9875733635972094),\n",
       " ([[587, 353], [633, 353], [633, 373], [587, 373]], '10%', 0.9978221280793061),\n",
       " ([[693, 359], [855, 359], [855, 397], [693, 397]],\n",
       "  'Daily Values',\n",
       "  0.9999810040256669),\n",
       " ([[290, 382], [434, 382], [434, 406], [290, 406]],\n",
       "  'Saturated Fat 1g',\n",
       "  0.8753536000965837),\n",
       " ([[597, 383], [633, 383], [633, 403], [597, 403]], '5%', 0.5849636316108656),\n",
       " ([[290, 410], [402, 410], [402, 436], [290, 436]],\n",
       "  'Trans Fat 0g',\n",
       "  0.6665720595388004),\n",
       " ([[696, 394], [806, 394], [806, 426], [696, 426]],\n",
       "  'Updated',\n",
       "  0.7818077872932443),\n",
       " ([[266, 439], [431, 439], [431, 466], [266, 466]],\n",
       "  'Cholesterol Omg',\n",
       "  0.998796931418585),\n",
       " ([[611, 441], [633, 441], [633, 461], [611, 461]], '%', 0.9955036038072684),\n",
       " ([[268, 465], [411, 465], [411, 494], [268, 494]],\n",
       "  'Sodium 160mg',\n",
       "  0.5129192905810812),\n",
       " ([[599, 471], [633, 471], [633, 491], [599, 491]], '7%', 0.6833963936712184),\n",
       " ([[268, 496], [506, 496], [506, 522], [268, 522]],\n",
       "  'Total Carbohydrate 37g',\n",
       "  0.7650645925132962),\n",
       " ([[587, 499], [633, 499], [633, 519], [587, 519]], '13%', 0.9755470121478589),\n",
       " ([[290, 524], [428, 524], [428, 554], [290, 554]],\n",
       "  'Dietary Fiber 4g',\n",
       "  0.8672425492968491),\n",
       " ([[587, 529], [633, 529], [633, 549], [587, 549]], '14%', 0.9964385797670017),\n",
       " ([[292, 555], [438, 555], [438, 583], [292, 583]],\n",
       "  'Total Sugars 12g',\n",
       "  0.7208222064374304),\n",
       " ([[140, 568], [206, 568], [206, 594], [140, 594]],\n",
       "  'New:',\n",
       "  0.9994949102401733),\n",
       " ([[314, 585], [548, 585], [548, 612], [314, 612]],\n",
       "  'Includes 10g Added Sugars',\n",
       "  0.9901849274463881),\n",
       " ([[585, 587], [633, 587], [633, 607], [585, 607]], '20%', 0.6360943030392515),\n",
       " ([[32, 598], [206, 598], [206, 630], [32, 630]],\n",
       "  'added sugars',\n",
       "  0.9013772987525988),\n",
       " ([[268, 612], [374, 612], [374, 638], [268, 638]],\n",
       "  'Protein 3g',\n",
       "  0.8827390885541957),\n",
       " ([[106, 651], [209, 651], [209, 688], [106, 688]],\n",
       "  'Change',\n",
       "  0.9999924079432909),\n",
       " ([[268, 659], [405, 659], [405, 686], [268, 686]],\n",
       "  'Vitamin D 2mcg',\n",
       "  0.5323457238423459),\n",
       " ([[593, 661], [633, 661], [633, 681], [593, 681]], '10%', 0.9895733632335676),\n",
       " ([[698, 658], [780, 658], [780, 684], [698, 684]],\n",
       "  'Actual',\n",
       "  0.9999967879775886),\n",
       " ([[102, 686], [208, 686], [208, 714], [102, 714]],\n",
       "  'in some',\n",
       "  0.7588408246617302),\n",
       " ([[268, 687], [403, 687], [403, 716], [268, 716]],\n",
       "  'Calcium 260mg',\n",
       "  0.9922751357229577),\n",
       " ([[592, 688], [636, 688], [636, 712], [592, 712]], '20%', 0.9885020255803786),\n",
       " ([[694, 690], [808, 690], [808, 716], [694, 716]],\n",
       "  'amounts',\n",
       "  0.9999904028704782),\n",
       " ([[92, 716], [208, 716], [208, 746], [92, 746]],\n",
       "  'nutrients',\n",
       "  0.9999906619171852),\n",
       " ([[268, 717], [349, 717], [349, 745], [268, 745]],\n",
       "  'Iron 8mg',\n",
       "  0.9567373692771823),\n",
       " ([[593, 719], [635, 719], [635, 739], [593, 739]], '45%', 0.9689694900834764),\n",
       " ([[696, 718], [808, 718], [808, 748], [696, 748]],\n",
       "  'declared',\n",
       "  0.9999895095550071),\n",
       " ([[94, 744], [209, 744], [209, 782], [94, 782]],\n",
       "  'required',\n",
       "  0.9999986091535985),\n",
       " ([[268, 745], [423, 745], [423, 774], [268, 774]],\n",
       "  'Potassium 240mg',\n",
       "  0.961225978069983),\n",
       " ([[277, 789], [627, 789], [627, 807], [277, 807]],\n",
       "  'The % Daily Value (DV) tells you how much a nutrient in',\n",
       "  0.573690253641228),\n",
       " ([[696, 781], [754, 781], [754, 810], [696, 810]], 'New', 0.9999927044989317),\n",
       " ([[289, 807], [469, 807], [469, 825], [289, 825]],\n",
       "  'serving of food contributes to',\n",
       "  0.7636438062841694),\n",
       " ([[481, 807], [633, 807], [633, 823], [481, 823]],\n",
       "  'daily diet_ 2,000 calories',\n",
       "  0.6490509852019896),\n",
       " ([[289, 823], [531, 823], [531, 841], [289, 841]],\n",
       "  'day is used for general nutrition advice.',\n",
       "  0.7875802689577379),\n",
       " ([[694, 814], [806, 814], [806, 842], [694, 842]],\n",
       "  'footnote',\n",
       "  0.9998995198221038)]"
      ]
     },
     "execution_count": 34,
     "metadata": {},
     "output_type": "execute_result"
    }
   ],
   "source": [
    "result"
   ]
  },
  {
   "cell_type": "code",
   "execution_count": 13,
   "id": "4d58464f",
   "metadata": {},
   "outputs": [],
   "source": [
    "import cv2\n",
    "import matplotlib.pyplot as plt"
   ]
  },
  {
   "cell_type": "code",
   "execution_count": 14,
   "id": "a3321e76",
   "metadata": {},
   "outputs": [
    {
     "ename": "error",
     "evalue": "OpenCV(4.8.0) /io/opencv/modules/imgproc/src/color.cpp:182: error: (-215:Assertion failed) !_src.empty() in function 'cvtColor'\n",
     "output_type": "error",
     "traceback": [
      "\u001b[0;31m---------------------------------------------------------------------------\u001b[0m",
      "\u001b[0;31merror\u001b[0m                                     Traceback (most recent call last)",
      "\u001b[0;32m/tmp/ipykernel_6102/2618490113.py\u001b[0m in \u001b[0;36m<module>\u001b[0;34m\u001b[0m\n\u001b[1;32m      1\u001b[0m \u001b[0mimg_1\u001b[0m \u001b[0;34m=\u001b[0m \u001b[0mcv2\u001b[0m\u001b[0;34m.\u001b[0m\u001b[0mimread\u001b[0m\u001b[0;34m(\u001b[0m\u001b[0mim_1_path\u001b[0m\u001b[0;34m)\u001b[0m\u001b[0;34m\u001b[0m\u001b[0;34m\u001b[0m\u001b[0m\n\u001b[0;32m----> 2\u001b[0;31m \u001b[0mimg_1\u001b[0m \u001b[0;34m=\u001b[0m \u001b[0mcv2\u001b[0m\u001b[0;34m.\u001b[0m\u001b[0mcvtColor\u001b[0m\u001b[0;34m(\u001b[0m\u001b[0mimg_1\u001b[0m\u001b[0;34m,\u001b[0m \u001b[0mcv2\u001b[0m\u001b[0;34m.\u001b[0m\u001b[0mCOLOR_BGR2RGB\u001b[0m\u001b[0;34m)\u001b[0m\u001b[0;34m\u001b[0m\u001b[0;34m\u001b[0m\u001b[0m\n\u001b[0m\u001b[1;32m      3\u001b[0m \u001b[0mplt\u001b[0m\u001b[0;34m.\u001b[0m\u001b[0mimshow\u001b[0m\u001b[0;34m(\u001b[0m\u001b[0mimg_1\u001b[0m\u001b[0;34m)\u001b[0m\u001b[0;34m\u001b[0m\u001b[0;34m\u001b[0m\u001b[0m\n",
      "\u001b[0;31merror\u001b[0m: OpenCV(4.8.0) /io/opencv/modules/imgproc/src/color.cpp:182: error: (-215:Assertion failed) !_src.empty() in function 'cvtColor'\n"
     ]
    }
   ],
   "source": [
    "img_1 = cv2.imread(im_1_path)\n",
    "img_1 = cv2.cvtColor(img_1, cv2.COLOR_BGR2RGB)\n",
    "plt.imshow(img_1)"
   ]
  },
  {
   "cell_type": "code",
   "execution_count": 15,
   "id": "37ae9f71",
   "metadata": {},
   "outputs": [
    {
     "name": "stdout",
     "output_type": "stream",
     "text": [
      "Serving Size 1\n",
      "cup (228g)\n",
      "Servings Per Container 2\n",
      "Total Fat 12g\n",
      "18%\n",
      "Saturated Fat 3g\n",
      "15%\n",
      "Trans Fat 3g_\n",
      "Cholesterol 30mg_\n",
      "10%\n",
      "Sodium 470mg\n",
      "20%\n",
      "5% or less\n",
      "10%\n",
      "0%\n",
      "20% or more\n",
      "4%\n",
      "2%\n",
      "20%\n",
      "4%\n"
     ]
    }
   ],
   "source": [
    "data=result\n",
    "nutrient_info = []\n",
    "\n",
    "for item in data:\n",
    "    text = item[1]\n",
    "    if any(char.isdigit() for char in text):\n",
    "        nutrient_info.append(text)\n",
    "for nutrient in nutrient_info:\n",
    "    print(nutrient)"
   ]
  },
  {
   "cell_type": "code",
   "execution_count": 12,
   "id": "13094b60",
   "metadata": {},
   "outputs": [
    {
     "name": "stderr",
     "output_type": "stream",
     "text": [
      "Using CPU. Note: This module is much faster with a GPU.\n"
     ]
    },
    {
     "ename": "ValueError",
     "evalue": "Could not find a backend to open `./images/test.png`` with iomode `ri`.\nBased on the extension, the following plugins might add capable backends:\n  pyav:  pip install imageio[pyav]",
     "output_type": "error",
     "traceback": [
      "\u001b[0;31m---------------------------------------------------------------------------\u001b[0m",
      "\u001b[0;31mValueError\u001b[0m                                Traceback (most recent call last)",
      "\u001b[0;32m/tmp/ipykernel_6102/3205659286.py\u001b[0m in \u001b[0;36m<module>\u001b[0;34m\u001b[0m\n\u001b[1;32m     20\u001b[0m \u001b[0;32mfor\u001b[0m \u001b[0mimg_path\u001b[0m \u001b[0;32min\u001b[0m \u001b[0mimage_paths\u001b[0m\u001b[0;34m:\u001b[0m\u001b[0;34m\u001b[0m\u001b[0;34m\u001b[0m\u001b[0m\n\u001b[1;32m     21\u001b[0m     \u001b[0;31m# Recognize text for the current image\u001b[0m\u001b[0;34m\u001b[0m\u001b[0;34m\u001b[0m\u001b[0;34m\u001b[0m\u001b[0m\n\u001b[0;32m---> 22\u001b[0;31m     \u001b[0mtext_results\u001b[0m \u001b[0;34m=\u001b[0m \u001b[0mrecognize_text\u001b[0m\u001b[0;34m(\u001b[0m\u001b[0mimg_path\u001b[0m\u001b[0;34m)\u001b[0m\u001b[0;34m\u001b[0m\u001b[0;34m\u001b[0m\u001b[0m\n\u001b[0m\u001b[1;32m     23\u001b[0m \u001b[0;34m\u001b[0m\u001b[0m\n\u001b[1;32m     24\u001b[0m     \u001b[0;31m# Create a result file with the same name as the image but with a different extension\u001b[0m\u001b[0;34m\u001b[0m\u001b[0;34m\u001b[0m\u001b[0;34m\u001b[0m\u001b[0m\n",
      "\u001b[0;32m/tmp/ipykernel_6102/3205659286.py\u001b[0m in \u001b[0;36mrecognize_text\u001b[0;34m(img_path)\u001b[0m\n\u001b[1;32m      5\u001b[0m     \u001b[0;34m'''Loads an image and recognizes text.'''\u001b[0m\u001b[0;34m\u001b[0m\u001b[0;34m\u001b[0m\u001b[0m\n\u001b[1;32m      6\u001b[0m     \u001b[0mreader\u001b[0m \u001b[0;34m=\u001b[0m \u001b[0measyocr\u001b[0m\u001b[0;34m.\u001b[0m\u001b[0mReader\u001b[0m\u001b[0;34m(\u001b[0m\u001b[0;34m[\u001b[0m\u001b[0;34m'en'\u001b[0m\u001b[0;34m]\u001b[0m\u001b[0;34m,\u001b[0m \u001b[0mgpu\u001b[0m\u001b[0;34m=\u001b[0m\u001b[0;32mFalse\u001b[0m\u001b[0;34m)\u001b[0m\u001b[0;34m\u001b[0m\u001b[0;34m\u001b[0m\u001b[0m\n\u001b[0;32m----> 7\u001b[0;31m     \u001b[0;32mreturn\u001b[0m \u001b[0mreader\u001b[0m\u001b[0;34m.\u001b[0m\u001b[0mreadtext\u001b[0m\u001b[0;34m(\u001b[0m\u001b[0mimg_path\u001b[0m\u001b[0;34m)\u001b[0m\u001b[0;34m\u001b[0m\u001b[0;34m\u001b[0m\u001b[0m\n\u001b[0m\u001b[1;32m      8\u001b[0m \u001b[0;34m\u001b[0m\u001b[0m\n\u001b[1;32m      9\u001b[0m \u001b[0;31m# List of image paths\u001b[0m\u001b[0;34m\u001b[0m\u001b[0;34m\u001b[0m\u001b[0;34m\u001b[0m\u001b[0m\n",
      "\u001b[0;32m~/anaconda3/envs/myenv/lib/python3.7/site-packages/easyocr/easyocr.py\u001b[0m in \u001b[0;36mreadtext\u001b[0;34m(self, image, decoder, beamWidth, batch_size, workers, allowlist, blocklist, detail, rotation_info, paragraph, min_size, contrast_ths, adjust_contrast, filter_ths, text_threshold, low_text, link_threshold, canvas_size, mag_ratio, slope_ths, ycenter_ths, height_ths, width_ths, y_ths, x_ths, add_margin, threshold, bbox_min_score, bbox_min_size, max_candidates, output_format)\u001b[0m\n\u001b[1;32m    452\u001b[0m         \u001b[0mimage\u001b[0m\u001b[0;34m:\u001b[0m \u001b[0mfile\u001b[0m \u001b[0mpath\u001b[0m \u001b[0;32mor\u001b[0m \u001b[0mnumpy\u001b[0m\u001b[0;34m-\u001b[0m\u001b[0marray\u001b[0m \u001b[0;32mor\u001b[0m \u001b[0ma\u001b[0m \u001b[0mbyte\u001b[0m \u001b[0mstream\u001b[0m \u001b[0mobject\u001b[0m\u001b[0;34m\u001b[0m\u001b[0;34m\u001b[0m\u001b[0m\n\u001b[1;32m    453\u001b[0m         '''\n\u001b[0;32m--> 454\u001b[0;31m         \u001b[0mimg\u001b[0m\u001b[0;34m,\u001b[0m \u001b[0mimg_cv_grey\u001b[0m \u001b[0;34m=\u001b[0m \u001b[0mreformat_input\u001b[0m\u001b[0;34m(\u001b[0m\u001b[0mimage\u001b[0m\u001b[0;34m)\u001b[0m\u001b[0;34m\u001b[0m\u001b[0;34m\u001b[0m\u001b[0m\n\u001b[0m\u001b[1;32m    455\u001b[0m \u001b[0;34m\u001b[0m\u001b[0m\n\u001b[1;32m    456\u001b[0m         horizontal_list, free_list = self.detect(img, \n",
      "\u001b[0;32m~/anaconda3/envs/myenv/lib/python3.7/site-packages/easyocr/utils.py\u001b[0m in \u001b[0;36mreformat_input\u001b[0;34m(image)\u001b[0m\n\u001b[1;32m    739\u001b[0m             \u001b[0mimg_cv_grey\u001b[0m \u001b[0;34m=\u001b[0m \u001b[0mcv2\u001b[0m\u001b[0;34m.\u001b[0m\u001b[0mimread\u001b[0m\u001b[0;34m(\u001b[0m\u001b[0mimage\u001b[0m\u001b[0;34m,\u001b[0m \u001b[0mcv2\u001b[0m\u001b[0;34m.\u001b[0m\u001b[0mIMREAD_GRAYSCALE\u001b[0m\u001b[0;34m)\u001b[0m\u001b[0;34m\u001b[0m\u001b[0;34m\u001b[0m\u001b[0m\n\u001b[1;32m    740\u001b[0m             \u001b[0mimage\u001b[0m \u001b[0;34m=\u001b[0m \u001b[0mos\u001b[0m\u001b[0;34m.\u001b[0m\u001b[0mpath\u001b[0m\u001b[0;34m.\u001b[0m\u001b[0mexpanduser\u001b[0m\u001b[0;34m(\u001b[0m\u001b[0mimage\u001b[0m\u001b[0;34m)\u001b[0m\u001b[0;34m\u001b[0m\u001b[0;34m\u001b[0m\u001b[0m\n\u001b[0;32m--> 741\u001b[0;31m         \u001b[0mimg\u001b[0m \u001b[0;34m=\u001b[0m \u001b[0mloadImage\u001b[0m\u001b[0;34m(\u001b[0m\u001b[0mimage\u001b[0m\u001b[0;34m)\u001b[0m  \u001b[0;31m# can accept URL\u001b[0m\u001b[0;34m\u001b[0m\u001b[0;34m\u001b[0m\u001b[0m\n\u001b[0m\u001b[1;32m    742\u001b[0m     \u001b[0;32melif\u001b[0m \u001b[0mtype\u001b[0m\u001b[0;34m(\u001b[0m\u001b[0mimage\u001b[0m\u001b[0;34m)\u001b[0m \u001b[0;34m==\u001b[0m \u001b[0mbytes\u001b[0m\u001b[0;34m:\u001b[0m\u001b[0;34m\u001b[0m\u001b[0;34m\u001b[0m\u001b[0m\n\u001b[1;32m    743\u001b[0m         \u001b[0mnparr\u001b[0m \u001b[0;34m=\u001b[0m \u001b[0mnp\u001b[0m\u001b[0;34m.\u001b[0m\u001b[0mfrombuffer\u001b[0m\u001b[0;34m(\u001b[0m\u001b[0mimage\u001b[0m\u001b[0;34m,\u001b[0m \u001b[0mnp\u001b[0m\u001b[0;34m.\u001b[0m\u001b[0muint8\u001b[0m\u001b[0;34m)\u001b[0m\u001b[0;34m\u001b[0m\u001b[0;34m\u001b[0m\u001b[0m\n",
      "\u001b[0;32m~/anaconda3/envs/myenv/lib/python3.7/site-packages/easyocr/imgproc.py\u001b[0m in \u001b[0;36mloadImage\u001b[0;34m(img_file)\u001b[0m\n\u001b[1;32m     10\u001b[0m \u001b[0;34m\u001b[0m\u001b[0m\n\u001b[1;32m     11\u001b[0m \u001b[0;32mdef\u001b[0m \u001b[0mloadImage\u001b[0m\u001b[0;34m(\u001b[0m\u001b[0mimg_file\u001b[0m\u001b[0;34m)\u001b[0m\u001b[0;34m:\u001b[0m\u001b[0;34m\u001b[0m\u001b[0;34m\u001b[0m\u001b[0m\n\u001b[0;32m---> 12\u001b[0;31m     \u001b[0mimg\u001b[0m \u001b[0;34m=\u001b[0m \u001b[0mio\u001b[0m\u001b[0;34m.\u001b[0m\u001b[0mimread\u001b[0m\u001b[0;34m(\u001b[0m\u001b[0mimg_file\u001b[0m\u001b[0;34m)\u001b[0m           \u001b[0;31m# RGB order\u001b[0m\u001b[0;34m\u001b[0m\u001b[0;34m\u001b[0m\u001b[0m\n\u001b[0m\u001b[1;32m     13\u001b[0m     \u001b[0;32mif\u001b[0m \u001b[0mimg\u001b[0m\u001b[0;34m.\u001b[0m\u001b[0mshape\u001b[0m\u001b[0;34m[\u001b[0m\u001b[0;36m0\u001b[0m\u001b[0;34m]\u001b[0m \u001b[0;34m==\u001b[0m \u001b[0;36m2\u001b[0m\u001b[0;34m:\u001b[0m \u001b[0mimg\u001b[0m \u001b[0;34m=\u001b[0m \u001b[0mimg\u001b[0m\u001b[0;34m[\u001b[0m\u001b[0;36m0\u001b[0m\u001b[0;34m]\u001b[0m\u001b[0;34m\u001b[0m\u001b[0;34m\u001b[0m\u001b[0m\n\u001b[1;32m     14\u001b[0m     \u001b[0;32mif\u001b[0m \u001b[0mlen\u001b[0m\u001b[0;34m(\u001b[0m\u001b[0mimg\u001b[0m\u001b[0;34m.\u001b[0m\u001b[0mshape\u001b[0m\u001b[0;34m)\u001b[0m \u001b[0;34m==\u001b[0m \u001b[0;36m2\u001b[0m \u001b[0;34m:\u001b[0m \u001b[0mimg\u001b[0m \u001b[0;34m=\u001b[0m \u001b[0mcv2\u001b[0m\u001b[0;34m.\u001b[0m\u001b[0mcvtColor\u001b[0m\u001b[0;34m(\u001b[0m\u001b[0mimg\u001b[0m\u001b[0;34m,\u001b[0m \u001b[0mcv2\u001b[0m\u001b[0;34m.\u001b[0m\u001b[0mCOLOR_GRAY2RGB\u001b[0m\u001b[0;34m)\u001b[0m\u001b[0;34m\u001b[0m\u001b[0;34m\u001b[0m\u001b[0m\n",
      "\u001b[0;32m~/anaconda3/envs/myenv/lib/python3.7/site-packages/skimage/io/_io.py\u001b[0m in \u001b[0;36mimread\u001b[0;34m(fname, as_gray, plugin, **plugin_args)\u001b[0m\n\u001b[1;32m     51\u001b[0m \u001b[0;34m\u001b[0m\u001b[0m\n\u001b[1;32m     52\u001b[0m     \u001b[0;32mwith\u001b[0m \u001b[0mfile_or_url_context\u001b[0m\u001b[0;34m(\u001b[0m\u001b[0mfname\u001b[0m\u001b[0;34m)\u001b[0m \u001b[0;32mas\u001b[0m \u001b[0mfname\u001b[0m\u001b[0;34m:\u001b[0m\u001b[0;34m\u001b[0m\u001b[0;34m\u001b[0m\u001b[0m\n\u001b[0;32m---> 53\u001b[0;31m         \u001b[0mimg\u001b[0m \u001b[0;34m=\u001b[0m \u001b[0mcall_plugin\u001b[0m\u001b[0;34m(\u001b[0m\u001b[0;34m'imread'\u001b[0m\u001b[0;34m,\u001b[0m \u001b[0mfname\u001b[0m\u001b[0;34m,\u001b[0m \u001b[0mplugin\u001b[0m\u001b[0;34m=\u001b[0m\u001b[0mplugin\u001b[0m\u001b[0;34m,\u001b[0m \u001b[0;34m**\u001b[0m\u001b[0mplugin_args\u001b[0m\u001b[0;34m)\u001b[0m\u001b[0;34m\u001b[0m\u001b[0;34m\u001b[0m\u001b[0m\n\u001b[0m\u001b[1;32m     54\u001b[0m \u001b[0;34m\u001b[0m\u001b[0m\n\u001b[1;32m     55\u001b[0m     \u001b[0;32mif\u001b[0m \u001b[0;32mnot\u001b[0m \u001b[0mhasattr\u001b[0m\u001b[0;34m(\u001b[0m\u001b[0mimg\u001b[0m\u001b[0;34m,\u001b[0m \u001b[0;34m'ndim'\u001b[0m\u001b[0;34m)\u001b[0m\u001b[0;34m:\u001b[0m\u001b[0;34m\u001b[0m\u001b[0;34m\u001b[0m\u001b[0m\n",
      "\u001b[0;32m~/anaconda3/envs/myenv/lib/python3.7/site-packages/skimage/io/manage_plugins.py\u001b[0m in \u001b[0;36mcall_plugin\u001b[0;34m(kind, *args, **kwargs)\u001b[0m\n\u001b[1;32m    205\u001b[0m                                (plugin, kind))\n\u001b[1;32m    206\u001b[0m \u001b[0;34m\u001b[0m\u001b[0m\n\u001b[0;32m--> 207\u001b[0;31m     \u001b[0;32mreturn\u001b[0m \u001b[0mfunc\u001b[0m\u001b[0;34m(\u001b[0m\u001b[0;34m*\u001b[0m\u001b[0margs\u001b[0m\u001b[0;34m,\u001b[0m \u001b[0;34m**\u001b[0m\u001b[0mkwargs\u001b[0m\u001b[0;34m)\u001b[0m\u001b[0;34m\u001b[0m\u001b[0;34m\u001b[0m\u001b[0m\n\u001b[0m\u001b[1;32m    208\u001b[0m \u001b[0;34m\u001b[0m\u001b[0m\n\u001b[1;32m    209\u001b[0m \u001b[0;34m\u001b[0m\u001b[0m\n",
      "\u001b[0;32m~/anaconda3/envs/myenv/lib/python3.7/site-packages/skimage/io/_plugins/imageio_plugin.py\u001b[0m in \u001b[0;36mimread\u001b[0;34m(*args, **kwargs)\u001b[0m\n\u001b[1;32m     13\u001b[0m \u001b[0;34m@\u001b[0m\u001b[0mwraps\u001b[0m\u001b[0;34m(\u001b[0m\u001b[0mimageio_imread\u001b[0m\u001b[0;34m)\u001b[0m\u001b[0;34m\u001b[0m\u001b[0;34m\u001b[0m\u001b[0m\n\u001b[1;32m     14\u001b[0m \u001b[0;32mdef\u001b[0m \u001b[0mimread\u001b[0m\u001b[0;34m(\u001b[0m\u001b[0;34m*\u001b[0m\u001b[0margs\u001b[0m\u001b[0;34m,\u001b[0m \u001b[0;34m**\u001b[0m\u001b[0mkwargs\u001b[0m\u001b[0;34m)\u001b[0m\u001b[0;34m:\u001b[0m\u001b[0;34m\u001b[0m\u001b[0;34m\u001b[0m\u001b[0m\n\u001b[0;32m---> 15\u001b[0;31m     \u001b[0;32mreturn\u001b[0m \u001b[0mnp\u001b[0m\u001b[0;34m.\u001b[0m\u001b[0masarray\u001b[0m\u001b[0;34m(\u001b[0m\u001b[0mimageio_imread\u001b[0m\u001b[0;34m(\u001b[0m\u001b[0;34m*\u001b[0m\u001b[0margs\u001b[0m\u001b[0;34m,\u001b[0m \u001b[0;34m**\u001b[0m\u001b[0mkwargs\u001b[0m\u001b[0;34m)\u001b[0m\u001b[0;34m)\u001b[0m\u001b[0;34m\u001b[0m\u001b[0;34m\u001b[0m\u001b[0m\n\u001b[0m",
      "\u001b[0;32m~/anaconda3/envs/myenv/lib/python3.7/site-packages/imageio/v2.py\u001b[0m in \u001b[0;36mimread\u001b[0;34m(uri, format, **kwargs)\u001b[0m\n\u001b[1;32m    357\u001b[0m     \u001b[0mimopen_args\u001b[0m\u001b[0;34m[\u001b[0m\u001b[0;34m\"legacy_mode\"\u001b[0m\u001b[0;34m]\u001b[0m \u001b[0;34m=\u001b[0m \u001b[0;32mTrue\u001b[0m\u001b[0;34m\u001b[0m\u001b[0;34m\u001b[0m\u001b[0m\n\u001b[1;32m    358\u001b[0m \u001b[0;34m\u001b[0m\u001b[0m\n\u001b[0;32m--> 359\u001b[0;31m     \u001b[0;32mwith\u001b[0m \u001b[0mimopen\u001b[0m\u001b[0;34m(\u001b[0m\u001b[0muri\u001b[0m\u001b[0;34m,\u001b[0m \u001b[0;34m\"ri\"\u001b[0m\u001b[0;34m,\u001b[0m \u001b[0;34m**\u001b[0m\u001b[0mimopen_args\u001b[0m\u001b[0;34m)\u001b[0m \u001b[0;32mas\u001b[0m \u001b[0mfile\u001b[0m\u001b[0;34m:\u001b[0m\u001b[0;34m\u001b[0m\u001b[0;34m\u001b[0m\u001b[0m\n\u001b[0m\u001b[1;32m    360\u001b[0m         \u001b[0mresult\u001b[0m \u001b[0;34m=\u001b[0m \u001b[0mfile\u001b[0m\u001b[0;34m.\u001b[0m\u001b[0mread\u001b[0m\u001b[0;34m(\u001b[0m\u001b[0mindex\u001b[0m\u001b[0;34m=\u001b[0m\u001b[0;36m0\u001b[0m\u001b[0;34m,\u001b[0m \u001b[0;34m**\u001b[0m\u001b[0mkwargs\u001b[0m\u001b[0;34m)\u001b[0m\u001b[0;34m\u001b[0m\u001b[0;34m\u001b[0m\u001b[0m\n\u001b[1;32m    361\u001b[0m \u001b[0;34m\u001b[0m\u001b[0m\n",
      "\u001b[0;32m~/anaconda3/envs/myenv/lib/python3.7/site-packages/imageio/core/imopen.py\u001b[0m in \u001b[0;36mimopen\u001b[0;34m(uri, io_mode, plugin, extension, format_hint, legacy_mode, **kwargs)\u001b[0m\n\u001b[1;32m    279\u001b[0m \u001b[0;34m\u001b[0m\u001b[0m\n\u001b[1;32m    280\u001b[0m     \u001b[0mrequest\u001b[0m\u001b[0;34m.\u001b[0m\u001b[0mfinish\u001b[0m\u001b[0;34m(\u001b[0m\u001b[0;34m)\u001b[0m\u001b[0;34m\u001b[0m\u001b[0;34m\u001b[0m\u001b[0m\n\u001b[0;32m--> 281\u001b[0;31m     \u001b[0;32mraise\u001b[0m \u001b[0merr_type\u001b[0m\u001b[0;34m(\u001b[0m\u001b[0merr_msg\u001b[0m\u001b[0;34m)\u001b[0m\u001b[0;34m\u001b[0m\u001b[0;34m\u001b[0m\u001b[0m\n\u001b[0m",
      "\u001b[0;31mValueError\u001b[0m: Could not find a backend to open `./images/test.png`` with iomode `ri`.\nBased on the extension, the following plugins might add capable backends:\n  pyav:  pip install imageio[pyav]"
     ]
    }
   ],
   "source": [
    "import easyocr\n",
    "import os\n",
    "\n",
    "def recognize_text(img_path):\n",
    "    '''Loads an image and recognizes text.'''\n",
    "    reader = easyocr.Reader(['en'], gpu=False)\n",
    "    return reader.readtext(img_path)\n",
    "\n",
    "# List of image paths\n",
    "image_paths = [im_1_path, im_2_path, im_3_path]\n",
    "\n",
    "# Directory to save result files\n",
    "result_directory = 'results'\n",
    "\n",
    "# Create the result directory if it doesn't exist\n",
    "if not os.path.exists(result_directory):\n",
    "    os.makedirs(result_directory)\n",
    "\n",
    "# Iterate through the list of image paths\n",
    "for img_path in image_paths:\n",
    "    # Recognize text for the current image\n",
    "    text_results = recognize_text(img_path)\n",
    "    \n",
    "    # Create a result file with the same name as the image but with a different extension\n",
    "    img_filename = os.path.basename(img_path)\n",
    "    result_file = os.path.join(result_directory, img_filename.replace('.jpg', '_results.txt'))\n",
    "    \n",
    "    # Save the results to the result file\n",
    "    with open(result_file, 'w', encoding='utf-8') as file:\n",
    "        for item in text_results:\n",
    "            file.write(f\"{item[1]}\\n\")\n",
    "\n",
    "    print(f\"Results saved for {img_path} in {result_file}\")\n"
   ]
  },
  {
   "cell_type": "code",
   "execution_count": 38,
   "id": "791e6748",
   "metadata": {},
   "outputs": [
    {
     "name": "stdout",
     "output_type": "stream",
     "text": [
      "Requirement already satisfied: pandas in /home/swathy/anaconda3/envs/myenv/lib/python3.7/site-packages (1.3.5)\n",
      "Requirement already satisfied: numpy>=1.17.3 in /home/swathy/anaconda3/envs/myenv/lib/python3.7/site-packages (from pandas) (1.21.6)\n",
      "Requirement already satisfied: python-dateutil>=2.7.3 in /home/swathy/anaconda3/envs/myenv/lib/python3.7/site-packages (from pandas) (2.8.2)\n",
      "Requirement already satisfied: pytz>=2017.3 in /home/swathy/anaconda3/envs/myenv/lib/python3.7/site-packages (from pandas) (2023.3.post1)\n",
      "Requirement already satisfied: six>=1.5 in /home/swathy/anaconda3/envs/myenv/lib/python3.7/site-packages (from python-dateutil>=2.7.3->pandas) (1.16.0)\n",
      "Note: you may need to restart the kernel to use updated packages.\n"
     ]
    }
   ],
   "source": [
    "pip install pandas"
   ]
  },
  {
   "cell_type": "code",
   "execution_count": 39,
   "id": "67264fc0",
   "metadata": {},
   "outputs": [
    {
     "name": "stdout",
     "output_type": "stream",
     "text": [
      "                      Nutrient\n",
      "0     8 servings per container\n",
      "1                2/3 cup (s5g)\n",
      "2                          230\n",
      "3                 Total Fat 8g\n",
      "4                          10%\n",
      "5             Saturated Fat 1g\n",
      "6                           5%\n",
      "7                 Trans Fat 0g\n",
      "8                 Sodium 160mg\n",
      "9                           7%\n",
      "10      Total Carbohydrate 37g\n",
      "11                         13%\n",
      "12            Dietary Fiber 4g\n",
      "13                         14%\n",
      "14            Total Sugars 12g\n",
      "15   Includes 10g Added Sugars\n",
      "16                         20%\n",
      "17                  Protein 3g\n",
      "18              Vitamin D 2mcg\n",
      "19                         10%\n",
      "20               Calcium 260mg\n",
      "21                         20%\n",
      "22                    Iron 8mg\n",
      "23                         45%\n",
      "24             Potassium 240mg\n",
      "25  daily diet_ 2,000 calories\n"
     ]
    }
   ],
   "source": [
    "import pandas as pd\n",
    "\n",
    "data = result\n",
    "\n",
    "nutrient_table = []\n",
    "\n",
    "for item in data:\n",
    "    text = item[1]  # Extract the text from the data item\n",
    "    # Check if the text contains a numeric value, indicating nutrient information\n",
    "    if any(char.isdigit() for char in text):\n",
    "        nutrient_table.append({'Nutrient': text})\n",
    "\n",
    "# Create a DataFrame from the list of dictionaries\n",
    "df = pd.DataFrame(nutrient_table)\n",
    "\n",
    "# Display the DataFrame as a table\n",
    "print(df)"
   ]
  },
  {
   "cell_type": "code",
   "execution_count": 5,
   "id": "aa739899",
   "metadata": {},
   "outputs": [
    {
     "name": "stderr",
     "output_type": "stream",
     "text": [
      "Neither CUDA nor MPS are available - defaulting to CPU. Note: This module is much faster with a GPU.\n"
     ]
    },
    {
     "name": "stdout",
     "output_type": "stream",
     "text": [
      "Results saved to nutrient_results.csv\n"
     ]
    }
   ],
   "source": [
    "import easyocr\n",
    "import re\n",
    "import os\n",
    "import csv\n",
    "\n",
    "# Initialize the EasyOCR reader\n",
    "reader = easyocr.Reader(['en'])\n",
    "\n",
    "# Define regular expressions to match nutrient information\n",
    "nutrient_patterns = [\n",
    "    r'Calories: (\\d+)',\n",
    "    r'Total Fat (\\d+[.]?\\d*)g',\n",
    "    # Add other nutrient patterns here...\n",
    "]\n",
    "\n",
    "# Create or open a CSV file to store the results\n",
    "with open('nutrient_results.csv', mode='w', newline='') as result_file:\n",
    "    result_writer = csv.writer(result_file)\n",
    "    # Write a header row to the CSV file\n",
    "    header_row = ['Image Name'] + [f'Nutrient {i}' for i in range(1, len(nutrient_patterns) + 1)]\n",
    "    result_writer.writerow(header_row)\n",
    "    \n",
    "    # Loop through all image files in a directory\n",
    "    image_dir = './images/'\n",
    "    for filename in os.listdir(image_dir):\n",
    "        if filename.endswith('.png'):\n",
    "            image_path = os.path.join(image_dir, filename)\n",
    "            \n",
    "            # Extract nutrient information from the current image\n",
    "            nutrient_info = {'Image Name': filename}\n",
    "            result = reader.readtext(image_path)\n",
    "            \n",
    "            for text in result:\n",
    "                for i, pattern in enumerate(nutrient_patterns, start=1):\n",
    "                    match = re.search(pattern, text[1])\n",
    "                    if match:\n",
    "                        nutrient_info[f'Nutrient {i}'] = match.group(1)\n",
    "            \n",
    "            # Write the results to the CSV file\n",
    "            data_row = [nutrient_info.get(key, '') for key in header_row]\n",
    "            result_writer.writerow(data_row)\n",
    "\n",
    "print('Results saved to nutrient_results.csv')\n"
   ]
  },
  {
   "cell_type": "code",
   "execution_count": 7,
   "id": "8d12014d",
   "metadata": {},
   "outputs": [
    {
     "name": "stdout",
     "output_type": "stream",
     "text": [
      "                            Image Name  Nutrient 1  Nutrient 2\n",
      "0                             test.png         NaN           8\n",
      "1  US_Nutritional_Fact_Label_2.svg.png         NaN          12\n",
      "                            Image Name  Nutrient 1\n",
      "0                             test.png         NaN\n",
      "1  US_Nutritional_Fact_Label_2.svg.png         NaN\n"
     ]
    }
   ],
   "source": [
    "import pandas as pd\n",
    "\n",
    "# Read the CSV file\n",
    "df = pd.read_csv('nutrient_results.csv')\n",
    "\n",
    "# Display the entire DataFrame\n",
    "print(df)\n",
    "\n",
    "# Alternatively, you can display specific columns if needed\n",
    "# For example, to display the 'Image Name' and 'Nutrient 1' columns\n",
    "print(df[['Image Name', 'Nutrient 1']])\n"
   ]
  },
  {
   "cell_type": "code",
   "execution_count": null,
   "id": "688140a6",
   "metadata": {},
   "outputs": [],
   "source": []
  }
 ],
 "metadata": {
  "kernelspec": {
   "display_name": "Python 3 (ipykernel)",
   "language": "python",
   "name": "python3"
  },
  "language_info": {
   "codemirror_mode": {
    "name": "ipython",
    "version": 3
   },
   "file_extension": ".py",
   "mimetype": "text/x-python",
   "name": "python",
   "nbconvert_exporter": "python",
   "pygments_lexer": "ipython3",
   "version": "3.7.16"
  }
 },
 "nbformat": 4,
 "nbformat_minor": 5
}
