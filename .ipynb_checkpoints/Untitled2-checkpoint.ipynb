{
 "cells": [
  {
   "cell_type": "code",
   "execution_count": 1,
   "id": "f8f1114d",
   "metadata": {},
   "outputs": [
    {
     "name": "stdout",
     "output_type": "stream",
     "text": [
      "Collecting pytesseract\n",
      "  Using cached pytesseract-0.3.10-py3-none-any.whl (14 kB)\n",
      "Requirement already satisfied: Pillow>=8.0.0 in /home/swathy/anaconda3/envs/myenv/lib/python3.7/site-packages (from pytesseract) (9.5.0)\n",
      "Requirement already satisfied: packaging>=21.3 in /home/swathy/anaconda3/envs/myenv/lib/python3.7/site-packages (from pytesseract) (23.1)\n",
      "Installing collected packages: pytesseract\n",
      "Successfully installed pytesseract-0.3.10\n",
      "Note: you may need to restart the kernel to use updated packages.\n"
     ]
    }
   ],
   "source": [
    "pip install pytesseract"
   ]
  },
  {
   "cell_type": "code",
   "execution_count": 2,
   "id": "d02c2215",
   "metadata": {},
   "outputs": [
    {
     "ename": "NameError",
     "evalue": "name 'tesseract' is not defined",
     "output_type": "error",
     "traceback": [
      "\u001b[0;31m---------------------------------------------------------------------------\u001b[0m",
      "\u001b[0;31mNameError\u001b[0m                                 Traceback (most recent call last)",
      "\u001b[0;32m/tmp/ipykernel_3945/2735069894.py\u001b[0m in \u001b[0;36m<module>\u001b[0;34m\u001b[0m\n\u001b[0;32m----> 1\u001b[0;31m \u001b[0mtesseract\u001b[0m\u001b[0;34m\u001b[0m\u001b[0;34m\u001b[0m\u001b[0m\n\u001b[0m",
      "\u001b[0;31mNameError\u001b[0m: name 'tesseract' is not defined"
     ]
    }
   ],
   "source": [
    "tesseract"
   ]
  },
  {
   "cell_type": "code",
   "execution_count": 3,
   "id": "db4c8dcd",
   "metadata": {},
   "outputs": [],
   "source": [
    "import os # To import test image files\n",
    "import cv2 # To work with opencv images\n",
    "from PIL import Image # Image submodule to work with pillow images\n",
    "import pytesseract as pt # pytesseract module"
   ]
  },
  {
   "cell_type": "code",
   "execution_count": 4,
   "id": "4608856c",
   "metadata": {},
   "outputs": [
    {
     "name": "stdout",
     "output_type": "stream",
     "text": [
      "test1.png\n",
      "test.png\n",
      "download.png\n"
     ]
    }
   ],
   "source": [
    "test_img_path = \"./images/\"\n",
    "create_path = lambda f : os.path.join(test_img_path, f)\n",
    "\n",
    "test_image_files = os.listdir(test_img_path)\n",
    "\n",
    "for f in test_image_files:\n",
    "    print(f)"
   ]
  },
  {
   "cell_type": "code",
   "execution_count": null,
   "id": "7bb5bb95",
   "metadata": {},
   "outputs": [],
   "source": [
    "def show_image(img_path, size=(500, 500)):\n",
    "    image = cv2.imread(img_path)\n",
    "    image = cv2.resize(image, size)\n",
    "    \n",
    "    cv2.imshow(\"IMAGE\", image)\n",
    "    cv2.waitKey(0)\n",
    "    cv2.destroyAllWindows()"
   ]
  },
  {
   "cell_type": "code",
   "execution_count": null,
   "id": "beb16906",
   "metadata": {},
   "outputs": [],
   "source": [
    "image_path = test_image_files[2] # 2, 3, 12, 1, 13, 15\n",
    "path = create_path(image_path)\n",
    "\n",
    "image = Image.open('./images/test.png')\n",
    "text = pt.image_to_string(image)\n",
    "\n",
    "print(text)\n",
    "show_image(path)"
   ]
  },
  {
   "cell_type": "markdown",
   "id": "c360d730",
   "metadata": {},
   "source": []
  },
  {
   "cell_type": "code",
   "execution_count": null,
   "id": "b85b461d",
   "metadata": {},
   "outputs": [],
   "source": []
  },
  {
   "cell_type": "code",
   "execution_count": null,
   "id": "7354927d",
   "metadata": {},
   "outputs": [],
   "source": []
  }
 ],
 "metadata": {
  "kernelspec": {
   "display_name": "Python 3 (ipykernel)",
   "language": "python",
   "name": "python3"
  },
  "language_info": {
   "codemirror_mode": {
    "name": "ipython",
    "version": 3
   },
   "file_extension": ".py",
   "mimetype": "text/x-python",
   "name": "python",
   "nbconvert_exporter": "python",
   "pygments_lexer": "ipython3",
   "version": "3.7.16"
  }
 },
 "nbformat": 4,
 "nbformat_minor": 5
}
